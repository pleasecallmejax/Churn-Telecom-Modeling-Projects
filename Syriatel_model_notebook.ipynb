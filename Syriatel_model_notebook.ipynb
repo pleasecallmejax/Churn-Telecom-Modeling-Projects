{
 "cells": [
  {
   "cell_type": "code",
   "execution_count": 1,
   "metadata": {},
   "outputs": [],
   "source": [
    "import pandas as pd\n",
    "import numpy as np\n",
    "import seaborn as sns\n",
    "import matplotlib.pyplot as plt\n",
    "import matplotlib.ticker as mtick\n",
    "from sklearn.linear_model import LogisticRegression\n",
    "from sklearn.impute import SimpleImputer\n",
    "from sklearn.pipeline import Pipeline, make_pipeline\n",
    "from sklearn.preprocessing import LabelEncoder, StandardScaler, OneHotEncoder\n",
    "from sklearn.model_selection import train_test_split, cross_val_score, GridSearchCV\n",
    "from sklearn.compose import ColumnTransformer\n",
    "from sklearn.dummy import DummyClassifier\n",
    "from sklearn.metrics import plot_roc_curve, plot_confusion_matrix, confusion_matrix, classification_report\n",
    "from sklearn.tree import DecisionTreeClassifier\n",
    "from sklearn.ensemble import RandomForestClassifier, StackingClassifier, AdaBoostClassifier\n",
    "from sklearn.neighbors import KNeighborsClassifier\n",
    "\n",
    "from imblearn.over_sampling import SMOTE\n",
    "from imblearn.pipeline import Pipeline as imbPipeline\n",
    "%matplotlib inline"
   ]
  },
  {
   "cell_type": "code",
   "execution_count": 3,
   "metadata": {},
   "outputs": [
    {
     "data": {
      "text/html": [
       "<div>\n",
       "<style scoped>\n",
       "    .dataframe tbody tr th:only-of-type {\n",
       "        vertical-align: middle;\n",
       "    }\n",
       "\n",
       "    .dataframe tbody tr th {\n",
       "        vertical-align: top;\n",
       "    }\n",
       "\n",
       "    .dataframe thead th {\n",
       "        text-align: right;\n",
       "    }\n",
       "</style>\n",
       "<table border=\"1\" class=\"dataframe\">\n",
       "  <thead>\n",
       "    <tr style=\"text-align: right;\">\n",
       "      <th></th>\n",
       "      <th>state</th>\n",
       "      <th>account length</th>\n",
       "      <th>area code</th>\n",
       "      <th>phone number</th>\n",
       "      <th>international plan</th>\n",
       "      <th>voice mail plan</th>\n",
       "      <th>number vmail messages</th>\n",
       "      <th>total day minutes</th>\n",
       "      <th>total day calls</th>\n",
       "      <th>total day charge</th>\n",
       "      <th>...</th>\n",
       "      <th>total eve calls</th>\n",
       "      <th>total eve charge</th>\n",
       "      <th>total night minutes</th>\n",
       "      <th>total night calls</th>\n",
       "      <th>total night charge</th>\n",
       "      <th>total intl minutes</th>\n",
       "      <th>total intl calls</th>\n",
       "      <th>total intl charge</th>\n",
       "      <th>customer service calls</th>\n",
       "      <th>churn</th>\n",
       "    </tr>\n",
       "  </thead>\n",
       "  <tbody>\n",
       "    <tr>\n",
       "      <th>0</th>\n",
       "      <td>KS</td>\n",
       "      <td>128</td>\n",
       "      <td>415</td>\n",
       "      <td>382-4657</td>\n",
       "      <td>no</td>\n",
       "      <td>yes</td>\n",
       "      <td>25</td>\n",
       "      <td>265.1</td>\n",
       "      <td>110</td>\n",
       "      <td>45.07</td>\n",
       "      <td>...</td>\n",
       "      <td>99</td>\n",
       "      <td>16.78</td>\n",
       "      <td>244.7</td>\n",
       "      <td>91</td>\n",
       "      <td>11.01</td>\n",
       "      <td>10.0</td>\n",
       "      <td>3</td>\n",
       "      <td>2.70</td>\n",
       "      <td>1</td>\n",
       "      <td>False</td>\n",
       "    </tr>\n",
       "    <tr>\n",
       "      <th>1</th>\n",
       "      <td>OH</td>\n",
       "      <td>107</td>\n",
       "      <td>415</td>\n",
       "      <td>371-7191</td>\n",
       "      <td>no</td>\n",
       "      <td>yes</td>\n",
       "      <td>26</td>\n",
       "      <td>161.6</td>\n",
       "      <td>123</td>\n",
       "      <td>27.47</td>\n",
       "      <td>...</td>\n",
       "      <td>103</td>\n",
       "      <td>16.62</td>\n",
       "      <td>254.4</td>\n",
       "      <td>103</td>\n",
       "      <td>11.45</td>\n",
       "      <td>13.7</td>\n",
       "      <td>3</td>\n",
       "      <td>3.70</td>\n",
       "      <td>1</td>\n",
       "      <td>False</td>\n",
       "    </tr>\n",
       "    <tr>\n",
       "      <th>2</th>\n",
       "      <td>NJ</td>\n",
       "      <td>137</td>\n",
       "      <td>415</td>\n",
       "      <td>358-1921</td>\n",
       "      <td>no</td>\n",
       "      <td>no</td>\n",
       "      <td>0</td>\n",
       "      <td>243.4</td>\n",
       "      <td>114</td>\n",
       "      <td>41.38</td>\n",
       "      <td>...</td>\n",
       "      <td>110</td>\n",
       "      <td>10.30</td>\n",
       "      <td>162.6</td>\n",
       "      <td>104</td>\n",
       "      <td>7.32</td>\n",
       "      <td>12.2</td>\n",
       "      <td>5</td>\n",
       "      <td>3.29</td>\n",
       "      <td>0</td>\n",
       "      <td>False</td>\n",
       "    </tr>\n",
       "    <tr>\n",
       "      <th>3</th>\n",
       "      <td>OH</td>\n",
       "      <td>84</td>\n",
       "      <td>408</td>\n",
       "      <td>375-9999</td>\n",
       "      <td>yes</td>\n",
       "      <td>no</td>\n",
       "      <td>0</td>\n",
       "      <td>299.4</td>\n",
       "      <td>71</td>\n",
       "      <td>50.90</td>\n",
       "      <td>...</td>\n",
       "      <td>88</td>\n",
       "      <td>5.26</td>\n",
       "      <td>196.9</td>\n",
       "      <td>89</td>\n",
       "      <td>8.86</td>\n",
       "      <td>6.6</td>\n",
       "      <td>7</td>\n",
       "      <td>1.78</td>\n",
       "      <td>2</td>\n",
       "      <td>False</td>\n",
       "    </tr>\n",
       "    <tr>\n",
       "      <th>4</th>\n",
       "      <td>OK</td>\n",
       "      <td>75</td>\n",
       "      <td>415</td>\n",
       "      <td>330-6626</td>\n",
       "      <td>yes</td>\n",
       "      <td>no</td>\n",
       "      <td>0</td>\n",
       "      <td>166.7</td>\n",
       "      <td>113</td>\n",
       "      <td>28.34</td>\n",
       "      <td>...</td>\n",
       "      <td>122</td>\n",
       "      <td>12.61</td>\n",
       "      <td>186.9</td>\n",
       "      <td>121</td>\n",
       "      <td>8.41</td>\n",
       "      <td>10.1</td>\n",
       "      <td>3</td>\n",
       "      <td>2.73</td>\n",
       "      <td>3</td>\n",
       "      <td>False</td>\n",
       "    </tr>\n",
       "  </tbody>\n",
       "</table>\n",
       "<p>5 rows × 21 columns</p>\n",
       "</div>"
      ],
      "text/plain": [
       "  state  account length  area code phone number international plan  \\\n",
       "0    KS             128        415     382-4657                 no   \n",
       "1    OH             107        415     371-7191                 no   \n",
       "2    NJ             137        415     358-1921                 no   \n",
       "3    OH              84        408     375-9999                yes   \n",
       "4    OK              75        415     330-6626                yes   \n",
       "\n",
       "  voice mail plan  number vmail messages  total day minutes  total day calls  \\\n",
       "0             yes                     25              265.1              110   \n",
       "1             yes                     26              161.6              123   \n",
       "2              no                      0              243.4              114   \n",
       "3              no                      0              299.4               71   \n",
       "4              no                      0              166.7              113   \n",
       "\n",
       "   total day charge  ...  total eve calls  total eve charge  \\\n",
       "0             45.07  ...               99             16.78   \n",
       "1             27.47  ...              103             16.62   \n",
       "2             41.38  ...              110             10.30   \n",
       "3             50.90  ...               88              5.26   \n",
       "4             28.34  ...              122             12.61   \n",
       "\n",
       "   total night minutes  total night calls  total night charge  \\\n",
       "0                244.7                 91               11.01   \n",
       "1                254.4                103               11.45   \n",
       "2                162.6                104                7.32   \n",
       "3                196.9                 89                8.86   \n",
       "4                186.9                121                8.41   \n",
       "\n",
       "   total intl minutes  total intl calls  total intl charge  \\\n",
       "0                10.0                 3               2.70   \n",
       "1                13.7                 3               3.70   \n",
       "2                12.2                 5               3.29   \n",
       "3                 6.6                 7               1.78   \n",
       "4                10.1                 3               2.73   \n",
       "\n",
       "   customer service calls  churn  \n",
       "0                       1  False  \n",
       "1                       1  False  \n",
       "2                       0  False  \n",
       "3                       2  False  \n",
       "4                       3  False  \n",
       "\n",
       "[5 rows x 21 columns]"
      ]
     },
     "execution_count": 3,
     "metadata": {},
     "output_type": "execute_result"
    }
   ],
   "source": [
    "df = pd.read_csv('data/churn-data-set.csv')\n",
    "df.head()"
   ]
  },
  {
   "cell_type": "code",
   "execution_count": 4,
   "metadata": {},
   "outputs": [
    {
     "name": "stdout",
     "output_type": "stream",
     "text": [
      "<class 'pandas.core.frame.DataFrame'>\n",
      "RangeIndex: 3333 entries, 0 to 3332\n",
      "Data columns (total 21 columns):\n",
      " #   Column                  Non-Null Count  Dtype  \n",
      "---  ------                  --------------  -----  \n",
      " 0   state                   3333 non-null   object \n",
      " 1   account length          3333 non-null   int64  \n",
      " 2   area code               3333 non-null   int64  \n",
      " 3   phone number            3333 non-null   object \n",
      " 4   international plan      3333 non-null   object \n",
      " 5   voice mail plan         3333 non-null   object \n",
      " 6   number vmail messages   3333 non-null   int64  \n",
      " 7   total day minutes       3333 non-null   float64\n",
      " 8   total day calls         3333 non-null   int64  \n",
      " 9   total day charge        3333 non-null   float64\n",
      " 10  total eve minutes       3333 non-null   float64\n",
      " 11  total eve calls         3333 non-null   int64  \n",
      " 12  total eve charge        3333 non-null   float64\n",
      " 13  total night minutes     3333 non-null   float64\n",
      " 14  total night calls       3333 non-null   int64  \n",
      " 15  total night charge      3333 non-null   float64\n",
      " 16  total intl minutes      3333 non-null   float64\n",
      " 17  total intl calls        3333 non-null   int64  \n",
      " 18  total intl charge       3333 non-null   float64\n",
      " 19  customer service calls  3333 non-null   int64  \n",
      " 20  churn                   3333 non-null   bool   \n",
      "dtypes: bool(1), float64(8), int64(8), object(4)\n",
      "memory usage: 524.2+ KB\n"
     ]
    }
   ],
   "source": [
    "df.info()"
   ]
  },
  {
   "cell_type": "code",
   "execution_count": 5,
   "metadata": {},
   "outputs": [
    {
     "name": "stdout",
     "output_type": "stream",
     "text": [
      "\n",
      " Number Of Null Values In Every Column \n",
      " state                     0\n",
      "account length            0\n",
      "area code                 0\n",
      "phone number              0\n",
      "international plan        0\n",
      "voice mail plan           0\n",
      "number vmail messages     0\n",
      "total day minutes         0\n",
      "total day calls           0\n",
      "total day charge          0\n",
      "total eve minutes         0\n",
      "total eve calls           0\n",
      "total eve charge          0\n",
      "total night minutes       0\n",
      "total night calls         0\n",
      "total night charge        0\n",
      "total intl minutes        0\n",
      "total intl calls          0\n",
      "total intl charge         0\n",
      "customer service calls    0\n",
      "churn                     0\n",
      "dtype: int64\n",
      "\n",
      " Number Of Duplicate Values :- 0\n",
      "\n",
      " Count Of Each Value Of Target Column \n",
      " False    2850\n",
      "True      483\n",
      "Name: churn, dtype: int64\n"
     ]
    }
   ],
   "source": [
    "## missing values\n",
    "print(f\"\\n {'Number of null values in every column'.title()} \\n {df.isnull().sum()}\")\n",
    "\n",
    "## duplicate values\n",
    "print(f\"\\n {'number of duplicate values'.title()} :- {len(df.loc[df.duplicated()])}\")\n",
    "\n",
    "## target value count \n",
    "print(f\"\\n {'count of each value of target column'.title()} \\n {df.churn.value_counts()}\")"
   ]
  },
  {
   "cell_type": "code",
   "execution_count": 6,
   "metadata": {},
   "outputs": [
    {
     "data": {
      "image/png": "[encoded data removed]",
      "text/plain": [
       "<Figure size 432x288 with 1 Axes>"
      ]
     },
     "metadata": {
      "needs_background": "light"
     },
     "output_type": "display_data"
    }
   ],
   "source": [
    "sns.countplot(x='churn', data=df);"
   ]
  },
  {
   "cell_type": "code",
   "execution_count": 7,
   "metadata": {},
   "outputs": [
    {
     "data": {
      "text/html": [
       "<div>\n",
       "<style scoped>\n",
       "    .dataframe tbody tr th:only-of-type {\n",
       "        vertical-align: middle;\n",
       "    }\n",
       "\n",
       "    .dataframe tbody tr th {\n",
       "        vertical-align: top;\n",
       "    }\n",
       "\n",
       "    .dataframe thead th {\n",
       "        text-align: right;\n",
       "    }\n",
       "</style>\n",
       "<table border=\"1\" class=\"dataframe\">\n",
       "  <thead>\n",
       "    <tr style=\"text-align: right;\">\n",
       "      <th></th>\n",
       "      <th>account length</th>\n",
       "      <th>area code</th>\n",
       "      <th>number vmail messages</th>\n",
       "      <th>total day minutes</th>\n",
       "      <th>total day calls</th>\n",
       "      <th>total day charge</th>\n",
       "      <th>total eve minutes</th>\n",
       "      <th>total eve calls</th>\n",
       "      <th>total eve charge</th>\n",
       "      <th>total night minutes</th>\n",
       "      <th>total night calls</th>\n",
       "      <th>total night charge</th>\n",
       "      <th>total intl minutes</th>\n",
       "      <th>total intl calls</th>\n",
       "      <th>total intl charge</th>\n",
       "      <th>customer service calls</th>\n",
       "      <th>churn</th>\n",
       "    </tr>\n",
       "  </thead>\n",
       "  <tbody>\n",
       "    <tr>\n",
       "      <th>account length</th>\n",
       "      <td>1.000000</td>\n",
       "      <td>-0.012463</td>\n",
       "      <td>-0.004628</td>\n",
       "      <td>0.006216</td>\n",
       "      <td>0.038470</td>\n",
       "      <td>0.006214</td>\n",
       "      <td>-0.006757</td>\n",
       "      <td>0.019260</td>\n",
       "      <td>-0.006745</td>\n",
       "      <td>-0.008955</td>\n",
       "      <td>-0.013176</td>\n",
       "      <td>-0.008960</td>\n",
       "      <td>0.009514</td>\n",
       "      <td>0.020661</td>\n",
       "      <td>0.009546</td>\n",
       "      <td>-0.003796</td>\n",
       "      <td>0.016541</td>\n",
       "    </tr>\n",
       "    <tr>\n",
       "      <th>area code</th>\n",
       "      <td>-0.012463</td>\n",
       "      <td>1.000000</td>\n",
       "      <td>-0.001994</td>\n",
       "      <td>-0.008264</td>\n",
       "      <td>-0.009646</td>\n",
       "      <td>-0.008264</td>\n",
       "      <td>0.003580</td>\n",
       "      <td>-0.011886</td>\n",
       "      <td>0.003607</td>\n",
       "      <td>-0.005825</td>\n",
       "      <td>0.016522</td>\n",
       "      <td>-0.005845</td>\n",
       "      <td>-0.018288</td>\n",
       "      <td>-0.024179</td>\n",
       "      <td>-0.018395</td>\n",
       "      <td>0.027572</td>\n",
       "      <td>0.006174</td>\n",
       "    </tr>\n",
       "    <tr>\n",
       "      <th>number vmail messages</th>\n",
       "      <td>-0.004628</td>\n",
       "      <td>-0.001994</td>\n",
       "      <td>1.000000</td>\n",
       "      <td>0.000778</td>\n",
       "      <td>-0.009548</td>\n",
       "      <td>0.000776</td>\n",
       "      <td>0.017562</td>\n",
       "      <td>-0.005864</td>\n",
       "      <td>0.017578</td>\n",
       "      <td>0.007681</td>\n",
       "      <td>0.007123</td>\n",
       "      <td>0.007663</td>\n",
       "      <td>0.002856</td>\n",
       "      <td>0.013957</td>\n",
       "      <td>0.002884</td>\n",
       "      <td>-0.013263</td>\n",
       "      <td>-0.089728</td>\n",
       "    </tr>\n",
       "    <tr>\n",
       "      <th>total day minutes</th>\n",
       "      <td>0.006216</td>\n",
       "      <td>-0.008264</td>\n",
       "      <td>0.000778</td>\n",
       "      <td>1.000000</td>\n",
       "      <td>0.006750</td>\n",
       "      <td>1.000000</td>\n",
       "      <td>0.007043</td>\n",
       "      <td>0.015769</td>\n",
       "      <td>0.007029</td>\n",
       "      <td>0.004323</td>\n",
       "      <td>0.022972</td>\n",
       "      <td>0.004300</td>\n",
       "      <td>-0.010155</td>\n",
       "      <td>0.008033</td>\n",
       "      <td>-0.010092</td>\n",
       "      <td>-0.013423</td>\n",
       "      <td>0.205151</td>\n",
       "    </tr>\n",
       "    <tr>\n",
       "      <th>total day calls</th>\n",
       "      <td>0.038470</td>\n",
       "      <td>-0.009646</td>\n",
       "      <td>-0.009548</td>\n",
       "      <td>0.006750</td>\n",
       "      <td>1.000000</td>\n",
       "      <td>0.006753</td>\n",
       "      <td>-0.021451</td>\n",
       "      <td>0.006462</td>\n",
       "      <td>-0.021449</td>\n",
       "      <td>0.022938</td>\n",
       "      <td>-0.019557</td>\n",
       "      <td>0.022927</td>\n",
       "      <td>0.021565</td>\n",
       "      <td>0.004574</td>\n",
       "      <td>0.021666</td>\n",
       "      <td>-0.018942</td>\n",
       "      <td>0.018459</td>\n",
       "    </tr>\n",
       "    <tr>\n",
       "      <th>total day charge</th>\n",
       "      <td>0.006214</td>\n",
       "      <td>-0.008264</td>\n",
       "      <td>0.000776</td>\n",
       "      <td>1.000000</td>\n",
       "      <td>0.006753</td>\n",
       "      <td>1.000000</td>\n",
       "      <td>0.007050</td>\n",
       "      <td>0.015769</td>\n",
       "      <td>0.007036</td>\n",
       "      <td>0.004324</td>\n",
       "      <td>0.022972</td>\n",
       "      <td>0.004301</td>\n",
       "      <td>-0.010157</td>\n",
       "      <td>0.008032</td>\n",
       "      <td>-0.010094</td>\n",
       "      <td>-0.013427</td>\n",
       "      <td>0.205151</td>\n",
       "    </tr>\n",
       "    <tr>\n",
       "      <th>total eve minutes</th>\n",
       "      <td>-0.006757</td>\n",
       "      <td>0.003580</td>\n",
       "      <td>0.017562</td>\n",
       "      <td>0.007043</td>\n",
       "      <td>-0.021451</td>\n",
       "      <td>0.007050</td>\n",
       "      <td>1.000000</td>\n",
       "      <td>-0.011430</td>\n",
       "      <td>1.000000</td>\n",
       "      <td>-0.012584</td>\n",
       "      <td>0.007586</td>\n",
       "      <td>-0.012593</td>\n",
       "      <td>-0.011035</td>\n",
       "      <td>0.002541</td>\n",
       "      <td>-0.011067</td>\n",
       "      <td>-0.012985</td>\n",
       "      <td>0.092796</td>\n",
       "    </tr>\n",
       "    <tr>\n",
       "      <th>total eve calls</th>\n",
       "      <td>0.019260</td>\n",
       "      <td>-0.011886</td>\n",
       "      <td>-0.005864</td>\n",
       "      <td>0.015769</td>\n",
       "      <td>0.006462</td>\n",
       "      <td>0.015769</td>\n",
       "      <td>-0.011430</td>\n",
       "      <td>1.000000</td>\n",
       "      <td>-0.011423</td>\n",
       "      <td>-0.002093</td>\n",
       "      <td>0.007710</td>\n",
       "      <td>-0.002056</td>\n",
       "      <td>0.008703</td>\n",
       "      <td>0.017434</td>\n",
       "      <td>0.008674</td>\n",
       "      <td>0.002423</td>\n",
       "      <td>0.009233</td>\n",
       "    </tr>\n",
       "    <tr>\n",
       "      <th>total eve charge</th>\n",
       "      <td>-0.006745</td>\n",
       "      <td>0.003607</td>\n",
       "      <td>0.017578</td>\n",
       "      <td>0.007029</td>\n",
       "      <td>-0.021449</td>\n",
       "      <td>0.007036</td>\n",
       "      <td>1.000000</td>\n",
       "      <td>-0.011423</td>\n",
       "      <td>1.000000</td>\n",
       "      <td>-0.012592</td>\n",
       "      <td>0.007596</td>\n",
       "      <td>-0.012601</td>\n",
       "      <td>-0.011043</td>\n",
       "      <td>0.002541</td>\n",
       "      <td>-0.011074</td>\n",
       "      <td>-0.012987</td>\n",
       "      <td>0.092786</td>\n",
       "    </tr>\n",
       "    <tr>\n",
       "      <th>total night minutes</th>\n",
       "      <td>-0.008955</td>\n",
       "      <td>-0.005825</td>\n",
       "      <td>0.007681</td>\n",
       "      <td>0.004323</td>\n",
       "      <td>0.022938</td>\n",
       "      <td>0.004324</td>\n",
       "      <td>-0.012584</td>\n",
       "      <td>-0.002093</td>\n",
       "      <td>-0.012592</td>\n",
       "      <td>1.000000</td>\n",
       "      <td>0.011204</td>\n",
       "      <td>0.999999</td>\n",
       "      <td>-0.015207</td>\n",
       "      <td>-0.012353</td>\n",
       "      <td>-0.015180</td>\n",
       "      <td>-0.009288</td>\n",
       "      <td>0.035493</td>\n",
       "    </tr>\n",
       "    <tr>\n",
       "      <th>total night calls</th>\n",
       "      <td>-0.013176</td>\n",
       "      <td>0.016522</td>\n",
       "      <td>0.007123</td>\n",
       "      <td>0.022972</td>\n",
       "      <td>-0.019557</td>\n",
       "      <td>0.022972</td>\n",
       "      <td>0.007586</td>\n",
       "      <td>0.007710</td>\n",
       "      <td>0.007596</td>\n",
       "      <td>0.011204</td>\n",
       "      <td>1.000000</td>\n",
       "      <td>0.011188</td>\n",
       "      <td>-0.013605</td>\n",
       "      <td>0.000305</td>\n",
       "      <td>-0.013630</td>\n",
       "      <td>-0.012802</td>\n",
       "      <td>0.006141</td>\n",
       "    </tr>\n",
       "    <tr>\n",
       "      <th>total night charge</th>\n",
       "      <td>-0.008960</td>\n",
       "      <td>-0.005845</td>\n",
       "      <td>0.007663</td>\n",
       "      <td>0.004300</td>\n",
       "      <td>0.022927</td>\n",
       "      <td>0.004301</td>\n",
       "      <td>-0.012593</td>\n",
       "      <td>-0.002056</td>\n",
       "      <td>-0.012601</td>\n",
       "      <td>0.999999</td>\n",
       "      <td>0.011188</td>\n",
       "      <td>1.000000</td>\n",
       "      <td>-0.015214</td>\n",
       "      <td>-0.012329</td>\n",
       "      <td>-0.015186</td>\n",
       "      <td>-0.009277</td>\n",
       "      <td>0.035496</td>\n",
       "    </tr>\n",
       "    <tr>\n",
       "      <th>total intl minutes</th>\n",
       "      <td>0.009514</td>\n",
       "      <td>-0.018288</td>\n",
       "      <td>0.002856</td>\n",
       "      <td>-0.010155</td>\n",
       "      <td>0.021565</td>\n",
       "      <td>-0.010157</td>\n",
       "      <td>-0.011035</td>\n",
       "      <td>0.008703</td>\n",
       "      <td>-0.011043</td>\n",
       "      <td>-0.015207</td>\n",
       "      <td>-0.013605</td>\n",
       "      <td>-0.015214</td>\n",
       "      <td>1.000000</td>\n",
       "      <td>0.032304</td>\n",
       "      <td>0.999993</td>\n",
       "      <td>-0.009640</td>\n",
       "      <td>0.068239</td>\n",
       "    </tr>\n",
       "    <tr>\n",
       "      <th>total intl calls</th>\n",
       "      <td>0.020661</td>\n",
       "      <td>-0.024179</td>\n",
       "      <td>0.013957</td>\n",
       "      <td>0.008033</td>\n",
       "      <td>0.004574</td>\n",
       "      <td>0.008032</td>\n",
       "      <td>0.002541</td>\n",
       "      <td>0.017434</td>\n",
       "      <td>0.002541</td>\n",
       "      <td>-0.012353</td>\n",
       "      <td>0.000305</td>\n",
       "      <td>-0.012329</td>\n",
       "      <td>0.032304</td>\n",
       "      <td>1.000000</td>\n",
       "      <td>0.032372</td>\n",
       "      <td>-0.017561</td>\n",
       "      <td>-0.052844</td>\n",
       "    </tr>\n",
       "    <tr>\n",
       "      <th>total intl charge</th>\n",
       "      <td>0.009546</td>\n",
       "      <td>-0.018395</td>\n",
       "      <td>0.002884</td>\n",
       "      <td>-0.010092</td>\n",
       "      <td>0.021666</td>\n",
       "      <td>-0.010094</td>\n",
       "      <td>-0.011067</td>\n",
       "      <td>0.008674</td>\n",
       "      <td>-0.011074</td>\n",
       "      <td>-0.015180</td>\n",
       "      <td>-0.013630</td>\n",
       "      <td>-0.015186</td>\n",
       "      <td>0.999993</td>\n",
       "      <td>0.032372</td>\n",
       "      <td>1.000000</td>\n",
       "      <td>-0.009675</td>\n",
       "      <td>0.068259</td>\n",
       "    </tr>\n",
       "    <tr>\n",
       "      <th>customer service calls</th>\n",
       "      <td>-0.003796</td>\n",
       "      <td>0.027572</td>\n",
       "      <td>-0.013263</td>\n",
       "      <td>-0.013423</td>\n",
       "      <td>-0.018942</td>\n",
       "      <td>-0.013427</td>\n",
       "      <td>-0.012985</td>\n",
       "      <td>0.002423</td>\n",
       "      <td>-0.012987</td>\n",
       "      <td>-0.009288</td>\n",
       "      <td>-0.012802</td>\n",
       "      <td>-0.009277</td>\n",
       "      <td>-0.009640</td>\n",
       "      <td>-0.017561</td>\n",
       "      <td>-0.009675</td>\n",
       "      <td>1.000000</td>\n",
       "      <td>0.208750</td>\n",
       "    </tr>\n",
       "    <tr>\n",
       "      <th>churn</th>\n",
       "      <td>0.016541</td>\n",
       "      <td>0.006174</td>\n",
       "      <td>-0.089728</td>\n",
       "      <td>0.205151</td>\n",
       "      <td>0.018459</td>\n",
       "      <td>0.205151</td>\n",
       "      <td>0.092796</td>\n",
       "      <td>0.009233</td>\n",
       "      <td>0.092786</td>\n",
       "      <td>0.035493</td>\n",
       "      <td>0.006141</td>\n",
       "      <td>0.035496</td>\n",
       "      <td>0.068239</td>\n",
       "      <td>-0.052844</td>\n",
       "      <td>0.068259</td>\n",
       "      <td>0.208750</td>\n",
       "      <td>1.000000</td>\n",
       "    </tr>\n",
       "  </tbody>\n",
       "</table>\n",
       "</div>"
      ],
      "text/plain": [
       "                        account length  area code  number vmail messages  \\\n",
       "account length                1.000000  -0.012463              -0.004628   \n",
       "area code                    -0.012463   1.000000              -0.001994   \n",
       "number vmail messages        -0.004628  -0.001994               1.000000   \n",
       "total day minutes             0.006216  -0.008264               0.000778   \n",
       "total day calls               0.038470  -0.009646              -0.009548   \n",
       "total day charge              0.006214  -0.008264               0.000776   \n",
       "total eve minutes            -0.006757   0.003580               0.017562   \n",
       "total eve calls               0.019260  -0.011886              -0.005864   \n",
       "total eve charge             -0.006745   0.003607               0.017578   \n",
       "total night minutes          -0.008955  -0.005825               0.007681   \n",
       "total night calls            -0.013176   0.016522               0.007123   \n",
       "total night charge           -0.008960  -0.005845               0.007663   \n",
       "total intl minutes            0.009514  -0.018288               0.002856   \n",
       "total intl calls              0.020661  -0.024179               0.013957   \n",
       "total intl charge             0.009546  -0.018395               0.002884   \n",
       "customer service calls       -0.003796   0.027572              -0.013263   \n",
       "churn                         0.016541   0.006174              -0.089728   \n",
       "\n",
       "                        total day minutes  total day calls  total day charge  \\\n",
       "account length                   0.006216         0.038470          0.006214   \n",
       "area code                       -0.008264        -0.009646         -0.008264   \n",
       "number vmail messages            0.000778        -0.009548          0.000776   \n",
       "total day minutes                1.000000         0.006750          1.000000   \n",
       "total day calls                  0.006750         1.000000          0.006753   \n",
       "total day charge                 1.000000         0.006753          1.000000   \n",
       "total eve minutes                0.007043        -0.021451          0.007050   \n",
       "total eve calls                  0.015769         0.006462          0.015769   \n",
       "total eve charge                 0.007029        -0.021449          0.007036   \n",
       "total night minutes              0.004323         0.022938          0.004324   \n",
       "total night calls                0.022972        -0.019557          0.022972   \n",
       "total night charge               0.004300         0.022927          0.004301   \n",
       "total intl minutes              -0.010155         0.021565         -0.010157   \n",
       "total intl calls                 0.008033         0.004574          0.008032   \n",
       "total intl charge               -0.010092         0.021666         -0.010094   \n",
       "customer service calls          -0.013423        -0.018942         -0.013427   \n",
       "churn                            0.205151         0.018459          0.205151   \n",
       "\n",
       "                        total eve minutes  total eve calls  total eve charge  \\\n",
       "account length                  -0.006757         0.019260         -0.006745   \n",
       "area code                        0.003580        -0.011886          0.003607   \n",
       "number vmail messages            0.017562        -0.005864          0.017578   \n",
       "total day minutes                0.007043         0.015769          0.007029   \n",
       "total day calls                 -0.021451         0.006462         -0.021449   \n",
       "total day charge                 0.007050         0.015769          0.007036   \n",
       "total eve minutes                1.000000        -0.011430          1.000000   \n",
       "total eve calls                 -0.011430         1.000000         -0.011423   \n",
       "total eve charge                 1.000000        -0.011423          1.000000   \n",
       "total night minutes             -0.012584        -0.002093         -0.012592   \n",
       "total night calls                0.007586         0.007710          0.007596   \n",
       "total night charge              -0.012593        -0.002056         -0.012601   \n",
       "total intl minutes              -0.011035         0.008703         -0.011043   \n",
       "total intl calls                 0.002541         0.017434          0.002541   \n",
       "total intl charge               -0.011067         0.008674         -0.011074   \n",
       "customer service calls          -0.012985         0.002423         -0.012987   \n",
       "churn                            0.092796         0.009233          0.092786   \n",
       "\n",
       "                        total night minutes  total night calls  \\\n",
       "account length                    -0.008955          -0.013176   \n",
       "area code                         -0.005825           0.016522   \n",
       "number vmail messages              0.007681           0.007123   \n",
       "total day minutes                  0.004323           0.022972   \n",
       "total day calls                    0.022938          -0.019557   \n",
       "total day charge                   0.004324           0.022972   \n",
       "total eve minutes                 -0.012584           0.007586   \n",
       "total eve calls                   -0.002093           0.007710   \n",
       "total eve charge                  -0.012592           0.007596   \n",
       "total night minutes                1.000000           0.011204   \n",
       "total night calls                  0.011204           1.000000   \n",
       "total night charge                 0.999999           0.011188   \n",
       "total intl minutes                -0.015207          -0.013605   \n",
       "total intl calls                  -0.012353           0.000305   \n",
       "total intl charge                 -0.015180          -0.013630   \n",
       "customer service calls            -0.009288          -0.012802   \n",
       "churn                              0.035493           0.006141   \n",
       "\n",
       "                        total night charge  total intl minutes  \\\n",
       "account length                   -0.008960            0.009514   \n",
       "area code                        -0.005845           -0.018288   \n",
       "number vmail messages             0.007663            0.002856   \n",
       "total day minutes                 0.004300           -0.010155   \n",
       "total day calls                   0.022927            0.021565   \n",
       "total day charge                  0.004301           -0.010157   \n",
       "total eve minutes                -0.012593           -0.011035   \n",
       "total eve calls                  -0.002056            0.008703   \n",
       "total eve charge                 -0.012601           -0.011043   \n",
       "total night minutes               0.999999           -0.015207   \n",
       "total night calls                 0.011188           -0.013605   \n",
       "total night charge                1.000000           -0.015214   \n",
       "total intl minutes               -0.015214            1.000000   \n",
       "total intl calls                 -0.012329            0.032304   \n",
       "total intl charge                -0.015186            0.999993   \n",
       "customer service calls           -0.009277           -0.009640   \n",
       "churn                             0.035496            0.068239   \n",
       "\n",
       "                        total intl calls  total intl charge  \\\n",
       "account length                  0.020661           0.009546   \n",
       "area code                      -0.024179          -0.018395   \n",
       "number vmail messages           0.013957           0.002884   \n",
       "total day minutes               0.008033          -0.010092   \n",
       "total day calls                 0.004574           0.021666   \n",
       "total day charge                0.008032          -0.010094   \n",
       "total eve minutes               0.002541          -0.011067   \n",
       "total eve calls                 0.017434           0.008674   \n",
       "total eve charge                0.002541          -0.011074   \n",
       "total night minutes            -0.012353          -0.015180   \n",
       "total night calls               0.000305          -0.013630   \n",
       "total night charge             -0.012329          -0.015186   \n",
       "total intl minutes              0.032304           0.999993   \n",
       "total intl calls                1.000000           0.032372   \n",
       "total intl charge               0.032372           1.000000   \n",
       "customer service calls         -0.017561          -0.009675   \n",
       "churn                          -0.052844           0.068259   \n",
       "\n",
       "                        customer service calls     churn  \n",
       "account length                       -0.003796  0.016541  \n",
       "area code                             0.027572  0.006174  \n",
       "number vmail messages                -0.013263 -0.089728  \n",
       "total day minutes                    -0.013423  0.205151  \n",
       "total day calls                      -0.018942  0.018459  \n",
       "total day charge                     -0.013427  0.205151  \n",
       "total eve minutes                    -0.012985  0.092796  \n",
       "total eve calls                       0.002423  0.009233  \n",
       "total eve charge                     -0.012987  0.092786  \n",
       "total night minutes                  -0.009288  0.035493  \n",
       "total night calls                    -0.012802  0.006141  \n",
       "total night charge                   -0.009277  0.035496  \n",
       "total intl minutes                   -0.009640  0.068239  \n",
       "total intl calls                     -0.017561 -0.052844  \n",
       "total intl charge                    -0.009675  0.068259  \n",
       "customer service calls                1.000000  0.208750  \n",
       "churn                                 0.208750  1.000000  "
      ]
     },
     "execution_count": 7,
     "metadata": {},
     "output_type": "execute_result"
    }
   ],
   "source": [
    "#All \"Charge\" columns are highly correlated with their \"minutes\" column. So we will drop the charge columns.\n",
    "#Area Code is a column that has innacurate data, so that will be dropped as well.\n",
    "df.corr()"
   ]
  },
  {
   "cell_type": "markdown",
   "metadata": {},
   "source": [
    "## Data Cleaning"
   ]
  },
  {
   "cell_type": "code",
   "execution_count": 8,
   "metadata": {},
   "outputs": [],
   "source": [
    "#df1 = df1[[x for x in df1 if not x.endswith('_charge')]]\n",
    "df.columns = df.columns.str.replace(' ', '_')\n",
    "df = df.drop([x for x in df.columns if x.endswith('_charge')],axis=1)\n",
    "df = df.drop(['phone_number', 'area_code'], axis=1)"
   ]
  },
  {
   "cell_type": "markdown",
   "metadata": {},
   "source": [
    "## Defining X and y as Our Targets and Features"
   ]
  },
  {
   "cell_type": "code",
   "execution_count": 9,
   "metadata": {},
   "outputs": [],
   "source": [
    "y = df['churn']\n",
    "X = df.drop(columns='churn', axis=1)"
   ]
  },
  {
   "cell_type": "markdown",
   "metadata": {},
   "source": [
    "## Train Test Split"
   ]
  },
  {
   "cell_type": "code",
   "execution_count": 10,
   "metadata": {},
   "outputs": [],
   "source": [
    "X_train, X_test, y_train, y_test = train_test_split(X, y, random_state=30, stratify=y)"
   ]
  },
  {
   "cell_type": "markdown",
   "metadata": {},
   "source": [
    "## Grabbing All the Categorical Columns"
   ]
  },
  {
   "cell_type": "code",
   "execution_count": 11,
   "metadata": {},
   "outputs": [
    {
     "data": {
      "text/plain": [
       "['state', 'international_plan', 'voice_mail_plan']"
      ]
     },
     "execution_count": 11,
     "metadata": {},
     "output_type": "execute_result"
    }
   ],
   "source": [
    "cat_cols = [col for col in X_train.columns if X_train[col].dtypes not in ['float64', 'int64']]\n",
    "cat_cols"
   ]
  },
  {
   "cell_type": "markdown",
   "metadata": {},
   "source": [
    "## Now for the Numerical Columns"
   ]
  },
  {
   "cell_type": "code",
   "execution_count": 12,
   "metadata": {},
   "outputs": [
    {
     "data": {
      "text/plain": [
       "['account_length',\n",
       " 'number_vmail_messages',\n",
       " 'total_day_minutes',\n",
       " 'total_day_calls',\n",
       " 'total_eve_minutes',\n",
       " 'total_eve_calls',\n",
       " 'total_night_minutes',\n",
       " 'total_night_calls',\n",
       " 'total_intl_minutes',\n",
       " 'total_intl_calls',\n",
       " 'customer_service_calls']"
      ]
     },
     "execution_count": 12,
     "metadata": {},
     "output_type": "execute_result"
    }
   ],
   "source": [
    "num_cols = [col for col in X_train.columns if col not in cat_cols]\n",
    "num_cols"
   ]
  },
  {
   "cell_type": "markdown",
   "metadata": {},
   "source": [
    "## Setting Up a Categorical Pipe "
   ]
  },
  {
   "cell_type": "code",
   "execution_count": 13,
   "metadata": {},
   "outputs": [],
   "source": [
    "cat_pipe = Pipeline(steps=[\n",
    "    ('imputer', SimpleImputer(strategy='constant', fill_value='missing')),\n",
    "    ('ohe', OneHotEncoder(handle_unknown='ignore', sparse=False))\n",
    "])"
   ]
  },
  {
   "cell_type": "markdown",
   "metadata": {},
   "source": [
    "## Now Let's Do the Same for a Numerical Pipe "
   ]
  },
  {
   "cell_type": "code",
   "execution_count": 14,
   "metadata": {},
   "outputs": [],
   "source": [
    "num_pipe = Pipeline(steps=[\n",
    "    ('imputer', SimpleImputer(missing_values=0, strategy='mean')),\n",
    "    ('scaler', StandardScaler())\n",
    "])"
   ]
  },
  {
   "cell_type": "markdown",
   "metadata": {},
   "source": [
    "## Creating a Column Transformer "
   ]
  },
  {
   "cell_type": "code",
   "execution_count": 15,
   "metadata": {},
   "outputs": [],
   "source": [
    "preprocess = ColumnTransformer(transformers=[\n",
    "    ('cat_cleaning', cat_pipe, cat_cols),\n",
    "    ('num_cleaning', num_pipe, num_cols)\n",
    "])\n",
    "#preprocess"
   ]
  },
  {
   "cell_type": "code",
   "execution_count": 16,
   "metadata": {
    "scrolled": true
   },
   "outputs": [
    {
     "data": {
      "text/plain": [
       "Pipeline(steps=[('preprocess',\n",
       "                 ColumnTransformer(transformers=[('cat_cleaning',\n",
       "                                                  Pipeline(steps=[('imputer',\n",
       "                                                                   SimpleImputer(fill_value='missing',\n",
       "                                                                                 strategy='constant')),\n",
       "                                                                  ('ohe',\n",
       "                                                                   OneHotEncoder(handle_unknown='ignore',\n",
       "                                                                                 sparse=False))]),\n",
       "                                                  ['state',\n",
       "                                                   'international_plan',\n",
       "                                                   'voice_mail_plan']),\n",
       "                                                 ('num_cleaning',\n",
       "                                                  Pipeline(steps=[('imputer',\n",
       "                                                                   SimpleImputer(missing_values=0)),\n",
       "                                                                  ('scaler',\n",
       "                                                                   StandardScaler())]),\n",
       "                                                  ['account_length',\n",
       "                                                   'number_vmail_messages',\n",
       "                                                   'total_day_minutes',\n",
       "                                                   'total_day_calls',\n",
       "                                                   'total_eve_minutes',\n",
       "                                                   'total_eve_calls',\n",
       "                                                   'total_night_minutes',\n",
       "                                                   'total_night_calls',\n",
       "                                                   'total_intl_minutes',\n",
       "                                                   'total_intl_calls',\n",
       "                                                   'customer_service_calls'])])),\n",
       "                ('smote', SMOTE()), ('log_reg', LogisticRegression())])"
      ]
     },
     "execution_count": 16,
     "metadata": {},
     "output_type": "execute_result"
    }
   ],
   "source": [
    "our_pipe = imbPipeline(steps=[\n",
    "    ('preprocess', preprocess),\n",
    "    ('smote', SMOTE()),\n",
    "    ('log_reg', LogisticRegression())\n",
    "])\n",
    "\n",
    "our_pipe.fit(X_train, y_train)"
   ]
  },
  {
   "cell_type": "markdown",
   "metadata": {},
   "source": [
    "# Functions For Fitting Training Data and Printing Scores"
   ]
  },
  {
   "cell_type": "code",
   "execution_count": 17,
   "metadata": {},
   "outputs": [],
   "source": [
    "def pipe_model_choice(abrv,model):\n",
    "    model_choice = imbPipeline(steps=[\n",
    "    ('preprocess', preprocess),\n",
    "    ('smote', SMOTE()),\n",
    "    (abrv, model)])\n",
    "    \n",
    "    return model_choice"
   ]
  },
  {
   "cell_type": "code",
   "execution_count": 18,
   "metadata": {},
   "outputs": [],
   "source": [
    "def fit_and_print_scores(model_choice):\n",
    "    fitted = model_choice.fit(X_train, y_train)\n",
    "    \n",
    "    y_trn_pred = fitted.predict(X_train)\n",
    "    y_tst_pred = fitted.predict(X_test)\n",
    "    \n",
    "    print('\\t\\tThe Train Results')\n",
    "    print(classification_report(y_train, y_trn_pred))\n",
    "    print('\\n\\t\\tThe Test Results')\n",
    "    print(classification_report(y_test, y_tst_pred))\n",
    "    print('Test Score: ', model_choice.score(X_test, y_test))\n",
    "    cv_score = cross_val_score(model_choice, X_train, y_train)\n",
    "    print('Cross Validation Score: ', cv_score.mean())"
   ]
  },
  {
   "cell_type": "markdown",
   "metadata": {},
   "source": [
    "# BASELINE MODEL"
   ]
  },
  {
   "cell_type": "code",
   "execution_count": 19,
   "metadata": {},
   "outputs": [
    {
     "name": "stdout",
     "output_type": "stream",
     "text": [
      "\t\tThe Train Results\n",
      "              precision    recall  f1-score   support\n",
      "\n",
      "       False       0.85      0.49      0.62      2137\n",
      "        True       0.14      0.51      0.23       362\n",
      "\n",
      "    accuracy                           0.49      2499\n",
      "   macro avg       0.50      0.50      0.42      2499\n",
      "weighted avg       0.75      0.49      0.56      2499\n",
      "\n",
      "\n",
      "\t\tThe Test Results\n",
      "              precision    recall  f1-score   support\n",
      "\n",
      "       False       0.85      0.50      0.63       713\n",
      "        True       0.14      0.47      0.21       121\n",
      "\n",
      "    accuracy                           0.50       834\n",
      "   macro avg       0.49      0.49      0.42       834\n",
      "weighted avg       0.75      0.50      0.57       834\n",
      "\n",
      "Test Score:  0.46882494004796166\n",
      "Cross Validation Score:  0.5061987975951904\n"
     ]
    }
   ],
   "source": [
    "dummy_model = DummyClassifier(strategy=\"stratified\")# We chose 'stratified' because it respects class distributions\n",
    "\n",
    "fit_and_print_scores(pipe_model_choice('baseline', dummy_model))"
   ]
  },
  {
   "cell_type": "code",
   "execution_count": 20,
   "metadata": {},
   "outputs": [
    {
     "data": {
      "image/png": "[encoded data removed]",
      "text/plain": [
       "<Figure size 432x288 with 2 Axes>"
      ]
     },
     "metadata": {
      "needs_background": "light"
     },
     "output_type": "display_data"
    }
   ],
   "source": [
    "fig, ax = plt.subplots()\n",
    "fig.suptitle(\"Dummy Model\")\n",
    "plot_confusion_matrix(dummy_model, X_train, y_train, ax=ax, cmap=\"plasma\");"
   ]
  },
  {
   "cell_type": "code",
   "execution_count": 21,
   "metadata": {},
   "outputs": [
    {
     "data": {
      "image/png": "[encoded data removed]",
      "text/plain": [
       "<Figure size 432x288 with 1 Axes>"
      ]
     },
     "metadata": {
      "needs_background": "light"
     },
     "output_type": "display_data"
    }
   ],
   "source": [
    "plot_roc_curve(dummy_model,X_train,y_train);"
   ]
  },
  {
   "cell_type": "markdown",
   "metadata": {},
   "source": [
    "# First Simple Model (Logistic Regression)"
   ]
  },
  {
   "cell_type": "code",
   "execution_count": 22,
   "metadata": {},
   "outputs": [
    {
     "name": "stdout",
     "output_type": "stream",
     "text": [
      "\t\tThe Train Results\n",
      "              precision    recall  f1-score   support\n",
      "\n",
      "       False       0.95      0.78      0.86      2137\n",
      "        True       0.37      0.77      0.50       362\n",
      "\n",
      "    accuracy                           0.78      2499\n",
      "   macro avg       0.66      0.78      0.68      2499\n",
      "weighted avg       0.87      0.78      0.81      2499\n",
      "\n",
      "\n",
      "\t\tThe Test Results\n",
      "              precision    recall  f1-score   support\n",
      "\n",
      "       False       0.95      0.78      0.86       713\n",
      "        True       0.38      0.78      0.51       121\n",
      "\n",
      "    accuracy                           0.78       834\n",
      "   macro avg       0.67      0.78      0.68       834\n",
      "weighted avg       0.87      0.78      0.81       834\n",
      "\n",
      "Test Score:  0.7817745803357314\n",
      "Cross Validation Score:  0.7691094188376754\n"
     ]
    }
   ],
   "source": [
    "fit_and_print_scores(pipe_model_choice('log_reg', LogisticRegression()))"
   ]
  },
  {
   "cell_type": "markdown",
   "metadata": {},
   "source": [
    "# Decision Tree"
   ]
  },
  {
   "cell_type": "code",
   "execution_count": 23,
   "metadata": {},
   "outputs": [
    {
     "name": "stdout",
     "output_type": "stream",
     "text": [
      "\t\tThe Train Results\n",
      "              precision    recall  f1-score   support\n",
      "\n",
      "       False       0.97      0.91      0.94      2137\n",
      "        True       0.62      0.86      0.72       362\n",
      "\n",
      "    accuracy                           0.90      2499\n",
      "   macro avg       0.80      0.88      0.83      2499\n",
      "weighted avg       0.92      0.90      0.91      2499\n",
      "\n",
      "\n",
      "\t\tThe Test Results\n",
      "              precision    recall  f1-score   support\n",
      "\n",
      "       False       0.98      0.91      0.94       713\n",
      "        True       0.61      0.87      0.72       121\n",
      "\n",
      "    accuracy                           0.90       834\n",
      "   macro avg       0.79      0.89      0.83       834\n",
      "weighted avg       0.92      0.90      0.91       834\n",
      "\n",
      "Test Score:  0.9004796163069544\n",
      "Cross Validation Score:  0.9047655310621241\n"
     ]
    }
   ],
   "source": [
    "dt = DecisionTreeClassifier(max_depth=5, min_samples_split=4)\n",
    "\n",
    "fit_and_print_scores(pipe_model_choice('dt', dt))"
   ]
  },
  {
   "cell_type": "markdown",
   "metadata": {},
   "source": [
    "# ================================================="
   ]
  },
  {
   "cell_type": "markdown",
   "metadata": {},
   "source": [
    "# Random Forest Classifier"
   ]
  },
  {
   "cell_type": "code",
   "execution_count": 24,
   "metadata": {},
   "outputs": [
    {
     "name": "stdout",
     "output_type": "stream",
     "text": [
      "\t\tThe Train Results\n",
      "              precision    recall  f1-score   support\n",
      "\n",
      "       False       0.96      0.91      0.94      2137\n",
      "        True       0.61      0.80      0.69       362\n",
      "\n",
      "    accuracy                           0.90      2499\n",
      "   macro avg       0.79      0.86      0.82      2499\n",
      "weighted avg       0.91      0.90      0.90      2499\n",
      "\n",
      "\n",
      "\t\tThe Test Results\n",
      "              precision    recall  f1-score   support\n",
      "\n",
      "       False       0.97      0.89      0.93       713\n",
      "        True       0.56      0.82      0.66       121\n",
      "\n",
      "    accuracy                           0.88       834\n",
      "   macro avg       0.76      0.85      0.79       834\n",
      "weighted avg       0.91      0.88      0.89       834\n",
      "\n",
      "Test Score:  0.8788968824940048\n",
      "Cross Validation Score:  0.886755110220441\n"
     ]
    }
   ],
   "source": [
    "rft = RandomForestClassifier(max_depth=6, \n",
    "max_features=11,\n",
    "min_samples_leaf=5,\n",
    "min_samples_split=12,\n",
    "n_estimators=75)\n",
    "\n",
    "fit_and_print_scores(pipe_model_choice('rf', rft))\n",
    "#pull out feature importance"
   ]
  },
  {
   "cell_type": "markdown",
   "metadata": {},
   "source": [
    "## Making a RandomForest Gridsearch"
   ]
  },
  {
   "cell_type": "code",
   "execution_count": 25,
   "metadata": {},
   "outputs": [],
   "source": [
    "our_pipe = imbPipeline(steps=[\n",
    "    ('preprocess', preprocess),\n",
    "    ('smote', SMOTE()),\n",
    "    ('rft', RandomForestClassifier(max_depth=6, max_features=11,\n",
    "                                        min_samples_leaf=4,\n",
    "                                        min_samples_split=11,\n",
    "                                        n_estimators=58,\n",
    "                                  n_jobs=-1,\n",
    "                                  verbose=3))])"
   ]
  },
  {
   "cell_type": "markdown",
   "metadata": {},
   "source": [
    "## Setting Parameters"
   ]
  },
  {
   "cell_type": "code",
   "execution_count": 26,
   "metadata": {},
   "outputs": [],
   "source": [
    "params = {\n",
    "    'rft__max_depth': [5,6],\n",
    "    'rft__max_features': [11,12],\n",
    "    'rft__min_samples_leaf': [4,5],\n",
    "    'rft__min_samples_split': [10,11],\n",
    "    'rft__n_estimators': [58, 75],\n",
    "    \n",
    "}"
   ]
  },
  {
   "cell_type": "markdown",
   "metadata": {},
   "source": [
    "## Instantiate GridSearchCV"
   ]
  },
  {
   "cell_type": "code",
   "execution_count": 27,
   "metadata": {},
   "outputs": [],
   "source": [
    "grid_pipe = GridSearchCV(our_pipe, params, n_jobs = -1, verbose=3, cv=2) "
   ]
  },
  {
   "cell_type": "markdown",
   "metadata": {},
   "source": [
    "## Fit Grid_Pipe to X_train, y_train"
   ]
  },
  {
   "cell_type": "code",
   "execution_count": 28,
   "metadata": {},
   "outputs": [
    {
     "name": "stdout",
     "output_type": "stream",
     "text": [
      "Fitting 2 folds for each of 32 candidates, totalling 64 fits\n"
     ]
    },
    {
     "name": "stderr",
     "output_type": "stream",
     "text": [
      "[Parallel(n_jobs=-1)]: Using backend ThreadingBackend with 8 concurrent workers.\n",
      "[Parallel(n_jobs=-1)]: Using backend ThreadingBackend with 8 concurrent workers.\n",
      "[Parallel(n_jobs=-1)]: Using backend ThreadingBackend with 8 concurrent workers.\n",
      "[Parallel(n_jobs=-1)]: Using backend ThreadingBackend with 8 concurrent workers.\n",
      "[Parallel(n_jobs=-1)]: Using backend ThreadingBackend with 8 concurrent workers.\n",
      "[Parallel(n_jobs=-1)]: Using backend ThreadingBackend with 8 concurrent workers.\n",
      "[Parallel(n_jobs=-1)]: Done  16 tasks      | elapsed:    0.1s\n",
      "[Parallel(n_jobs=-1)]: Done  16 tasks      | elapsed:    0.1s\n",
      "[Parallel(n_jobs=-1)]: Done  16 tasks      | elapsed:    0.1s\n",
      "[Parallel(n_jobs=-1)]: Done  16 tasks      | elapsed:    0.1s\n",
      "[Parallel(n_jobs=-1)]: Done  16 tasks      | elapsed:    0.1s\n",
      "[Parallel(n_jobs=-1)]: Done  58 out of  58 | elapsed:    0.1s finished\n",
      "[Parallel(n_jobs=-1)]: Done  58 out of  58 | elapsed:    0.1s finished\n",
      "[Parallel(n_jobs=-1)]: Done  58 out of  58 | elapsed:    0.1s finished\n",
      "[Parallel(n_jobs=-1)]: Using backend ThreadingBackend with 8 concurrent workers.\n",
      "[Parallel(n_jobs=-1)]: Using backend ThreadingBackend with 8 concurrent workers.\n",
      "[Parallel(n_jobs=-1)]: Done  58 out of  58 | elapsed:    0.2s finished\n",
      "[Parallel(n_jobs=8)]: Using backend ThreadingBackend with 8 concurrent workers.\n",
      "[Parallel(n_jobs=8)]: Using backend ThreadingBackend with 8 concurrent workers.\n",
      "[Parallel(n_jobs=-1)]: Done  16 tasks      | elapsed:    0.2s\n",
      "[Parallel(n_jobs=-1)]: Done  16 tasks      | elapsed:    0.0s\n",
      "[Parallel(n_jobs=-1)]: Done  16 tasks      | elapsed:    0.0s\n",
      "[Parallel(n_jobs=-1)]: Done  75 out of  75 | elapsed:    0.2s finished\n",
      "[Parallel(n_jobs=8)]: Using backend ThreadingBackend with 8 concurrent workers.\n",
      "[Parallel(n_jobs=8)]: Done  25 tasks      | elapsed:    0.1s\n",
      "[Parallel(n_jobs=8)]: Done  16 tasks      | elapsed:    0.0s\n",
      "[Parallel(n_jobs=8)]: Done  58 out of  58 | elapsed:    0.1s finished\n",
      "[Parallel(n_jobs=8)]: Done  58 out of  58 | elapsed:    0.1s finished\n",
      "[Parallel(n_jobs=-1)]: Done  75 out of  75 | elapsed:    0.3s finished\n",
      "[Parallel(n_jobs=8)]: Using backend ThreadingBackend with 8 concurrent workers.\n",
      "[Parallel(n_jobs=-1)]: Done  75 out of  75 | elapsed:    0.2s finished\n",
      "[Parallel(n_jobs=-1)]: Done  75 out of  75 | elapsed:    0.2s finished\n",
      "[Parallel(n_jobs=8)]: Done  16 tasks      | elapsed:    0.2s\n",
      "[Parallel(n_jobs=8)]: Using backend ThreadingBackend with 8 concurrent workers.\n",
      "[Parallel(n_jobs=8)]: Done  16 tasks      | elapsed:    0.0s\n",
      "[Parallel(n_jobs=8)]: Done  58 out of  58 | elapsed:    0.2s finished\n",
      "[Parallel(n_jobs=8)]: Using backend ThreadingBackend with 8 concurrent workers.\n",
      "[Parallel(n_jobs=8)]: Done  16 tasks      | elapsed:    0.0s\n",
      "[Parallel(n_jobs=8)]: Done  58 out of  58 | elapsed:    0.0s finished\n",
      "[Parallel(n_jobs=8)]: Using backend ThreadingBackend with 8 concurrent workers.\n",
      "[Parallel(n_jobs=8)]: Using backend ThreadingBackend with 8 concurrent workers.\n",
      "[Parallel(n_jobs=8)]: Done  16 tasks      | elapsed:    0.0s\n",
      "[Parallel(n_jobs=8)]: Done  16 tasks      | elapsed:    0.0s\n",
      "[Parallel(n_jobs=8)]: Done  75 out of  75 | elapsed:    0.0s finished\n",
      "[Parallel(n_jobs=8)]: Done  16 tasks      | elapsed:    0.0s\n",
      "[Parallel(n_jobs=8)]: Done  75 out of  75 | elapsed:    0.0s finished\n",
      "[Parallel(n_jobs=8)]: Done  75 out of  75 | elapsed:    0.0s finished\n",
      "[Parallel(n_jobs=8)]: Done  75 out of  75 | elapsed:    0.0s finished\n",
      "[Parallel(n_jobs=-1)]: Using backend ThreadingBackend with 8 concurrent workers.\n",
      "[Parallel(n_jobs=-1)]: Using backend ThreadingBackend with 8 concurrent workers.\n",
      "[Parallel(n_jobs=-1)]: Using backend ThreadingBackend with 8 concurrent workers.\n",
      "[Parallel(n_jobs=-1)]: Using backend ThreadingBackend with 8 concurrent workers.\n",
      "[Parallel(n_jobs=-1)]: Done  16 tasks      | elapsed:    0.1s\n",
      "[Parallel(n_jobs=-1)]: Done  16 tasks      | elapsed:    0.0s\n",
      "[Parallel(n_jobs=-1)]: Done  16 tasks      | elapsed:    0.0s\n",
      "[Parallel(n_jobs=-1)]: Done  16 tasks      | elapsed:    0.1s\n",
      "[Parallel(n_jobs=-1)]: Using backend ThreadingBackend with 8 concurrent workers.\n",
      "[Parallel(n_jobs=-1)]: Using backend ThreadingBackend with 8 concurrent workers.\n",
      "[Parallel(n_jobs=-1)]: Using backend ThreadingBackend with 8 concurrent workers.\n",
      "[Parallel(n_jobs=-1)]: Using backend ThreadingBackend with 8 concurrent workers.\n",
      "[Parallel(n_jobs=-1)]: Done  16 tasks      | elapsed:    0.1s\n",
      "[Parallel(n_jobs=-1)]: Done  58 out of  58 | elapsed:    0.2s finished\n",
      "[Parallel(n_jobs=-1)]: Done  58 out of  58 | elapsed:    0.2s finished\n",
      "[Parallel(n_jobs=-1)]: Done  58 out of  58 | elapsed:    0.2s finished\n",
      "[Parallel(n_jobs=-1)]: Done  75 out of  75 | elapsed:    0.2s finished\n",
      "[Parallel(n_jobs=-1)]: Done  16 tasks      | elapsed:    0.1s\n",
      "[Parallel(n_jobs=-1)]: Done  16 tasks      | elapsed:    0.1s\n",
      "[Parallel(n_jobs=8)]: Using backend ThreadingBackend with 8 concurrent workers.\n",
      "[Parallel(n_jobs=8)]: Using backend ThreadingBackend with 8 concurrent workers.\n",
      "[Parallel(n_jobs=8)]: Using backend ThreadingBackend with 8 concurrent workers.\n",
      "[Parallel(n_jobs=8)]: Done  16 tasks      | elapsed:    0.0s\n",
      "[Parallel(n_jobs=8)]: Done  58 out of  58 | elapsed:    0.0s finished\n",
      "[Parallel(n_jobs=8)]: Done  16 tasks      | elapsed:    0.0s\n",
      "[Parallel(n_jobs=8)]: Done  16 tasks      | elapsed:    0.0s\n",
      "[Parallel(n_jobs=-1)]: Done  20 tasks      | elapsed:    0.2s\n",
      "[Parallel(n_jobs=8)]: Done  75 out of  75 | elapsed:    0.1s finished\n",
      "[Parallel(n_jobs=8)]: Done  58 out of  58 | elapsed:    0.1s finished\n",
      "[Parallel(n_jobs=-1)]: Done  58 out of  58 | elapsed:    0.2s finished\n",
      "[Parallel(n_jobs=-1)]: Done  75 out of  75 | elapsed:    0.2s finished\n",
      "[Parallel(n_jobs=8)]: Using backend ThreadingBackend with 8 concurrent workers.\n",
      "[Parallel(n_jobs=8)]: Done  16 tasks      | elapsed:    0.0s\n",
      "[Parallel(n_jobs=8)]: Using backend ThreadingBackend with 8 concurrent workers.\n",
      "[Parallel(n_jobs=8)]: Using backend ThreadingBackend with 8 concurrent workers.\n",
      "[Parallel(n_jobs=-1)]: Done  75 out of  75 | elapsed:    0.2s finished\n",
      "[Parallel(n_jobs=8)]: Done  16 tasks      | elapsed:    0.0s\n",
      "[Parallel(n_jobs=8)]: Done  58 out of  58 | elapsed:    0.0s finished\n",
      "[Parallel(n_jobs=8)]: Done  16 tasks      | elapsed:    0.0s\n",
      "[Parallel(n_jobs=8)]: Done  58 out of  58 | elapsed:    0.0s finished\n",
      "[Parallel(n_jobs=8)]: Done  75 out of  75 | elapsed:    0.0s finished\n",
      "[Parallel(n_jobs=8)]: Using backend ThreadingBackend with 8 concurrent workers.\n",
      "[Parallel(n_jobs=8)]: Done  16 tasks      | elapsed:    0.0s\n",
      "[Parallel(n_jobs=8)]: Done  75 out of  75 | elapsed:    0.0s finished\n",
      "[Parallel(n_jobs=-1)]: Done  60 out of  75 | elapsed:    0.3s remaining:    0.1s\n",
      "[Parallel(n_jobs=-1)]: Using backend ThreadingBackend with 8 concurrent workers.\n",
      "[Parallel(n_jobs=-1)]: Done  75 out of  75 | elapsed:    0.3s finished\n",
      "[Parallel(n_jobs=-1)]: Using backend ThreadingBackend with 8 concurrent workers.\n",
      "[Parallel(n_jobs=-1)]: Using backend ThreadingBackend with 8 concurrent workers.\n",
      "[Parallel(n_jobs=8)]: Using backend ThreadingBackend with 8 concurrent workers.\n",
      "[Parallel(n_jobs=-1)]: Using backend ThreadingBackend with 8 concurrent workers.\n",
      "[Parallel(n_jobs=8)]: Done  16 tasks      | elapsed:    0.0s\n",
      "[Parallel(n_jobs=-1)]: Done  16 tasks      | elapsed:    0.0s\n",
      "[Parallel(n_jobs=8)]: Done  75 out of  75 | elapsed:    0.0s finished\n",
      "[Parallel(n_jobs=-1)]: Using backend ThreadingBackend with 8 concurrent workers.\n",
      "[Parallel(n_jobs=-1)]: Done  16 tasks      | elapsed:    0.1s\n",
      "[Parallel(n_jobs=-1)]: Done  16 tasks      | elapsed:    0.0s\n",
      "[Parallel(n_jobs=-1)]: Done  58 out of  58 | elapsed:    0.1s finished\n",
      "[Parallel(n_jobs=-1)]: Done  58 out of  58 | elapsed:    0.1s finished\n",
      "[Parallel(n_jobs=-1)]: Using backend ThreadingBackend with 8 concurrent workers.\n",
      "[Parallel(n_jobs=-1)]: Done  21 tasks      | elapsed:    0.1s\n",
      "[Parallel(n_jobs=8)]: Using backend ThreadingBackend with 8 concurrent workers.\n",
      "[Parallel(n_jobs=8)]: Using backend ThreadingBackend with 8 concurrent workers.\n",
      "[Parallel(n_jobs=-1)]: Done  16 tasks      | elapsed:    0.1s\n",
      "[Parallel(n_jobs=8)]: Done  16 tasks      | elapsed:    0.0s\n",
      "[Parallel(n_jobs=8)]: Done  58 out of  58 | elapsed:    0.0s finished\n",
      "[Parallel(n_jobs=-1)]: Done  75 out of  75 | elapsed:    0.2s finished\n",
      "[Parallel(n_jobs=-1)]: Done  16 tasks      | elapsed:    0.0s\n",
      "[Parallel(n_jobs=-1)]: Done  58 out of  58 | elapsed:    0.2s finished\n",
      "[Parallel(n_jobs=-1)]: Done  58 out of  58 | elapsed:    0.2s finished\n",
      "[Parallel(n_jobs=8)]: Done  16 tasks      | elapsed:    0.1s\n",
      "[Parallel(n_jobs=8)]: Using backend ThreadingBackend with 8 concurrent workers.\n",
      "[Parallel(n_jobs=-1)]: Using backend ThreadingBackend with 8 concurrent workers.\n",
      "[Parallel(n_jobs=8)]: Done  58 out of  58 | elapsed:    0.1s finished\n",
      "[Parallel(n_jobs=8)]: Done  16 tasks      | elapsed:    0.0s\n",
      "[Parallel(n_jobs=8)]: Using backend ThreadingBackend with 8 concurrent workers.\n",
      "[Parallel(n_jobs=8)]: Using backend ThreadingBackend with 8 concurrent workers.\n",
      "[Parallel(n_jobs=8)]: Done  16 tasks      | elapsed:    0.0s\n",
      "[Parallel(n_jobs=8)]: Done  75 out of  75 | elapsed:    0.0s finished\n",
      "[Parallel(n_jobs=8)]: Done  16 tasks      | elapsed:    0.0s\n",
      "[Parallel(n_jobs=8)]: Done  58 out of  58 | elapsed:    0.0s finished\n",
      "[Parallel(n_jobs=8)]: Done  58 out of  58 | elapsed:    0.0s finished\n",
      "[Parallel(n_jobs=-1)]: Done  75 out of  75 | elapsed:    0.1s finished\n",
      "[Parallel(n_jobs=-1)]: Done  16 tasks      | elapsed:    0.0s\n",
      "[Parallel(n_jobs=8)]: Using backend ThreadingBackend with 8 concurrent workers.\n",
      "[Parallel(n_jobs=-1)]: Using backend ThreadingBackend with 8 concurrent workers.\n",
      "[Parallel(n_jobs=8)]: Done  16 tasks      | elapsed:    0.0s\n",
      "[Parallel(n_jobs=8)]: Done  75 out of  75 | elapsed:    0.0s finished\n",
      "[Parallel(n_jobs=-1)]: Done  16 tasks      | elapsed:    0.0s\n",
      "[Parallel(n_jobs=-1)]: Done  75 out of  75 | elapsed:    0.1s finished\n",
      "[Parallel(n_jobs=-1)]: Using backend ThreadingBackend with 8 concurrent workers.\n",
      "[Parallel(n_jobs=8)]: Using backend ThreadingBackend with 8 concurrent workers.\n",
      "[Parallel(n_jobs=8)]: Done  16 tasks      | elapsed:    0.0s\n",
      "[Parallel(n_jobs=-1)]: Using backend ThreadingBackend with 8 concurrent workers.\n",
      "[Parallel(n_jobs=8)]: Done  75 out of  75 | elapsed:    0.0s finished\n",
      "[Parallel(n_jobs=-1)]: Done  16 tasks      | elapsed:    0.1s\n",
      "[Parallel(n_jobs=-1)]: Done  16 tasks      | elapsed:    0.0s\n",
      "[Parallel(n_jobs=-1)]: Done  75 out of  75 | elapsed:    0.2s finished\n",
      "[Parallel(n_jobs=-1)]: Using backend ThreadingBackend with 8 concurrent workers.\n",
      "[Parallel(n_jobs=-1)]: Done  58 out of  58 | elapsed:    0.1s finished\n",
      "[Parallel(n_jobs=8)]: Using backend ThreadingBackend with 8 concurrent workers.\n",
      "[Parallel(n_jobs=-1)]: Done  58 out of  58 | elapsed:    0.1s finished\n",
      "[Parallel(n_jobs=8)]: Done  16 tasks      | elapsed:    0.0s\n",
      "[Parallel(n_jobs=8)]: Using backend ThreadingBackend with 8 concurrent workers.\n",
      "[Parallel(n_jobs=-1)]: Done  16 tasks      | elapsed:    0.0s\n",
      "[Parallel(n_jobs=8)]: Done  16 tasks      | elapsed:    0.0s\n",
      "[Parallel(n_jobs=8)]: Done  75 out of  75 | elapsed:    0.0s finished\n"
     ]
    },
    {
     "name": "stderr",
     "output_type": "stream",
     "text": [
      "[Parallel(n_jobs=8)]: Done  58 out of  58 | elapsed:    0.0s finished\n",
      "[Parallel(n_jobs=-1)]: Using backend ThreadingBackend with 8 concurrent workers.\n",
      "[Parallel(n_jobs=-1)]: Using backend ThreadingBackend with 8 concurrent workers.\n",
      "[Parallel(n_jobs=8)]: Using backend ThreadingBackend with 8 concurrent workers.\n",
      "[Parallel(n_jobs=-1)]: Using backend ThreadingBackend with 8 concurrent workers.\n",
      "[Parallel(n_jobs=8)]: Done  16 tasks      | elapsed:    0.0s\n",
      "[Parallel(n_jobs=8)]: Done  58 out of  58 | elapsed:    0.0s finished\n",
      "[Parallel(n_jobs=-1)]: Done  58 out of  58 | elapsed:    0.1s finished\n",
      "[Parallel(n_jobs=-1)]: Done  16 tasks      | elapsed:    0.1s\n",
      "[Parallel(n_jobs=8)]: Using backend ThreadingBackend with 8 concurrent workers.\n",
      "[Parallel(n_jobs=8)]: Done  16 tasks      | elapsed:    0.0s\n",
      "[Parallel(n_jobs=8)]: Done  58 out of  58 | elapsed:    0.0s finished\n",
      "[Parallel(n_jobs=-1)]: Done  16 tasks      | elapsed:    0.1s\n",
      "[Parallel(n_jobs=-1)]: Done  60 out of  75 | elapsed:    0.1s remaining:    0.0s\n",
      "[Parallel(n_jobs=-1)]: Done  58 out of  58 | elapsed:    0.2s finished\n",
      "[Parallel(n_jobs=-1)]: Done  75 out of  75 | elapsed:    0.1s finished\n",
      "[Parallel(n_jobs=8)]: Using backend ThreadingBackend with 8 concurrent workers.\n",
      "[Parallel(n_jobs=8)]: Using backend ThreadingBackend with 8 concurrent workers.\n",
      "[Parallel(n_jobs=8)]: Done  16 tasks      | elapsed:    0.0s\n",
      "[Parallel(n_jobs=8)]: Done  16 tasks      | elapsed:    0.0s\n",
      "[Parallel(n_jobs=-1)]: Using backend ThreadingBackend with 8 concurrent workers.\n",
      "[Parallel(n_jobs=8)]: Done  58 out of  58 | elapsed:    0.0s finished\n",
      "[Parallel(n_jobs=8)]: Done  75 out of  75 | elapsed:    0.0s finished\n",
      "[Parallel(n_jobs=-1)]: Done  75 out of  75 | elapsed:    0.2s finished\n",
      "[Parallel(n_jobs=8)]: Using backend ThreadingBackend with 8 concurrent workers.\n",
      "[Parallel(n_jobs=-1)]: Done  16 tasks      | elapsed:    0.0s\n",
      "[Parallel(n_jobs=8)]: Done  16 tasks      | elapsed:    0.0s\n",
      "[Parallel(n_jobs=8)]: Done  75 out of  75 | elapsed:    0.0s finished\n",
      "[Parallel(n_jobs=-1)]: Using backend ThreadingBackend with 8 concurrent workers.\n",
      "[Parallel(n_jobs=-1)]: Done  75 out of  75 | elapsed:    0.1s finished\n",
      "[Parallel(n_jobs=8)]: Using backend ThreadingBackend with 8 concurrent workers.\n",
      "[Parallel(n_jobs=-1)]: Using backend ThreadingBackend with 8 concurrent workers.\n",
      "[Parallel(n_jobs=8)]: Done  16 tasks      | elapsed:    0.0s\n",
      "[Parallel(n_jobs=-1)]: Done  16 tasks      | elapsed:    0.0s\n",
      "[Parallel(n_jobs=8)]: Done  75 out of  75 | elapsed:    0.0s finished\n",
      "[Parallel(n_jobs=-1)]: Using backend ThreadingBackend with 8 concurrent workers.\n",
      "[Parallel(n_jobs=-1)]: Done  16 tasks      | elapsed:    0.0s\n",
      "[Parallel(n_jobs=-1)]: Done  16 tasks      | elapsed:    0.1s\n",
      "[Parallel(n_jobs=-1)]: Done  58 out of  58 | elapsed:    0.1s finished\n",
      "[Parallel(n_jobs=8)]: Using backend ThreadingBackend with 8 concurrent workers.\n",
      "[Parallel(n_jobs=8)]: Done  16 tasks      | elapsed:    0.0s\n",
      "[Parallel(n_jobs=8)]: Done  58 out of  58 | elapsed:    0.0s finished\n",
      "[Parallel(n_jobs=-1)]: Using backend ThreadingBackend with 8 concurrent workers.\n",
      "[Parallel(n_jobs=-1)]: Using backend ThreadingBackend with 8 concurrent workers.\n",
      "[Parallel(n_jobs=-1)]: Done  58 out of  58 | elapsed:    0.1s finished\n",
      "[Parallel(n_jobs=-1)]: Done  75 out of  75 | elapsed:    0.2s finished\n",
      "[Parallel(n_jobs=8)]: Using backend ThreadingBackend with 8 concurrent workers.\n",
      "[Parallel(n_jobs=8)]: Done  16 tasks      | elapsed:    0.0s\n",
      "[Parallel(n_jobs=-1)]: Done  16 tasks      | elapsed:    0.0s\n",
      "[Parallel(n_jobs=8)]: Using backend ThreadingBackend with 8 concurrent workers.\n",
      "[Parallel(n_jobs=8)]: Done  58 out of  58 | elapsed:    0.0s finished\n",
      "[Parallel(n_jobs=-1)]: Done  16 tasks      | elapsed:    0.1s\n",
      "[Parallel(n_jobs=8)]: Done  16 tasks      | elapsed:    0.0s\n",
      "[Parallel(n_jobs=8)]: Done  75 out of  75 | elapsed:    0.0s finished\n",
      "[Parallel(n_jobs=-1)]: Using backend ThreadingBackend with 8 concurrent workers.\n",
      "[Parallel(n_jobs=-1)]: Using backend ThreadingBackend with 8 concurrent workers.\n",
      "[Parallel(n_jobs=-1)]: Done  16 tasks      | elapsed:    0.0s\n",
      "[Parallel(n_jobs=-1)]: Done  16 tasks      | elapsed:    0.0s\n",
      "[Parallel(n_jobs=-1)]: Done  58 out of  58 | elapsed:    0.1s finished\n",
      "[Parallel(n_jobs=-1)]: Done  75 out of  75 | elapsed:    0.2s finished\n",
      "[Parallel(n_jobs=-1)]: Done  58 out of  58 | elapsed:    0.1s finished\n",
      "[Parallel(n_jobs=8)]: Using backend ThreadingBackend with 8 concurrent workers.\n",
      "[Parallel(n_jobs=-1)]: Done  75 out of  75 | elapsed:    0.2s finished\n",
      "[Parallel(n_jobs=8)]: Using backend ThreadingBackend with 8 concurrent workers.\n",
      "[Parallel(n_jobs=8)]: Done  16 tasks      | elapsed:    0.0s\n",
      "[Parallel(n_jobs=8)]: Using backend ThreadingBackend with 8 concurrent workers.\n",
      "[Parallel(n_jobs=8)]: Done  16 tasks      | elapsed:    0.0s\n",
      "[Parallel(n_jobs=8)]: Using backend ThreadingBackend with 8 concurrent workers.\n",
      "[Parallel(n_jobs=8)]: Done  16 tasks      | elapsed:    0.0s\n",
      "[Parallel(n_jobs=8)]: Done  58 out of  58 | elapsed:    0.0s finished\n",
      "[Parallel(n_jobs=8)]: Done  16 tasks      | elapsed:    0.0s\n",
      "[Parallel(n_jobs=8)]: Done  75 out of  75 | elapsed:    0.0s finished\n",
      "[Parallel(n_jobs=8)]: Done  58 out of  58 | elapsed:    0.0s finished\n",
      "[Parallel(n_jobs=8)]: Done  75 out of  75 | elapsed:    0.0s finished\n",
      "[Parallel(n_jobs=-1)]: Using backend ThreadingBackend with 8 concurrent workers.\n",
      "[Parallel(n_jobs=-1)]: Using backend ThreadingBackend with 8 concurrent workers.\n",
      "[Parallel(n_jobs=-1)]: Done  16 tasks      | elapsed:    0.0s\n",
      "[Parallel(n_jobs=-1)]: Using backend ThreadingBackend with 8 concurrent workers.\n",
      "[Parallel(n_jobs=-1)]: Done  16 tasks      | elapsed:    0.1s\n",
      "[Parallel(n_jobs=-1)]: Using backend ThreadingBackend with 8 concurrent workers.\n",
      "[Parallel(n_jobs=-1)]: Done  16 tasks      | elapsed:    0.1s\n",
      "[Parallel(n_jobs=-1)]: Done  16 tasks      | elapsed:    0.0s\n",
      "[Parallel(n_jobs=-1)]: Done  58 out of  58 | elapsed:    0.1s finished\n",
      "[Parallel(n_jobs=-1)]: Done  58 out of  58 | elapsed:    0.1s finished\n",
      "[Parallel(n_jobs=-1)]: Done  75 out of  75 | elapsed:    0.2s finished\n",
      "[Parallel(n_jobs=-1)]: Using backend ThreadingBackend with 8 concurrent workers.\n",
      "[Parallel(n_jobs=8)]: Using backend ThreadingBackend with 8 concurrent workers.\n",
      "[Parallel(n_jobs=-1)]: Done  75 out of  75 | elapsed:    0.2s finished\n",
      "[Parallel(n_jobs=8)]: Using backend ThreadingBackend with 8 concurrent workers.\n",
      "[Parallel(n_jobs=8)]: Using backend ThreadingBackend with 8 concurrent workers.\n",
      "[Parallel(n_jobs=8)]: Done  16 tasks      | elapsed:    0.0s\n",
      "[Parallel(n_jobs=8)]: Done  16 tasks      | elapsed:    0.0s\n",
      "[Parallel(n_jobs=8)]: Done  16 tasks      | elapsed:    0.0s\n",
      "[Parallel(n_jobs=8)]: Done  58 out of  58 | elapsed:    0.0s finished\n",
      "[Parallel(n_jobs=8)]: Using backend ThreadingBackend with 8 concurrent workers.\n",
      "[Parallel(n_jobs=8)]: Done  58 out of  58 | elapsed:    0.0s finished\n",
      "[Parallel(n_jobs=8)]: Done  16 tasks      | elapsed:    0.0s\n",
      "[Parallel(n_jobs=8)]: Done  75 out of  75 | elapsed:    0.0s finished\n",
      "[Parallel(n_jobs=-1)]: Done  16 tasks      | elapsed:    0.0s\n",
      "[Parallel(n_jobs=8)]: Done  75 out of  75 | elapsed:    0.0s finished\n",
      "[Parallel(n_jobs=-1)]: Using backend ThreadingBackend with 8 concurrent workers.\n",
      "[Parallel(n_jobs=-1)]: Using backend ThreadingBackend with 8 concurrent workers.\n",
      "[Parallel(n_jobs=-1)]: Using backend ThreadingBackend with 8 concurrent workers.\n",
      "[Parallel(n_jobs=-1)]: Done  16 tasks      | elapsed:    0.0s\n",
      "[Parallel(n_jobs=-1)]: Done  58 out of  58 | elapsed:    0.1s finished\n",
      "[Parallel(n_jobs=-1)]: Done  16 tasks      | elapsed:    0.1s\n",
      "[Parallel(n_jobs=8)]: Using backend ThreadingBackend with 8 concurrent workers.\n",
      "[Parallel(n_jobs=8)]: Done  16 tasks      | elapsed:    0.0s\n",
      "[Parallel(n_jobs=8)]: Done  58 out of  58 | elapsed:    0.0s finished\n",
      "[Parallel(n_jobs=-1)]: Done  16 tasks      | elapsed:    0.1s\n",
      "[Parallel(n_jobs=-1)]: Done  58 out of  58 | elapsed:    0.1s finished\n",
      "[Parallel(n_jobs=8)]: Using backend ThreadingBackend with 8 concurrent workers.\n",
      "[Parallel(n_jobs=8)]: Done  16 tasks      | elapsed:    0.0s\n",
      "[Parallel(n_jobs=-1)]: Done  75 out of  75 | elapsed:    0.2s finished\n",
      "[Parallel(n_jobs=8)]: Done  58 out of  58 | elapsed:    0.0s finished\n",
      "[Parallel(n_jobs=-1)]: Using backend ThreadingBackend with 8 concurrent workers.\n",
      "[Parallel(n_jobs=8)]: Using backend ThreadingBackend with 8 concurrent workers.\n",
      "[Parallel(n_jobs=8)]: Done  16 tasks      | elapsed:    0.0s\n",
      "[Parallel(n_jobs=-1)]: Done  75 out of  75 | elapsed:    0.2s finished\n",
      "[Parallel(n_jobs=-1)]: Using backend ThreadingBackend with 8 concurrent workers.\n",
      "[Parallel(n_jobs=-1)]: Using backend ThreadingBackend with 8 concurrent workers.\n",
      "[Parallel(n_jobs=8)]: Done  75 out of  75 | elapsed:    0.0s finished\n",
      "[Parallel(n_jobs=8)]: Using backend ThreadingBackend with 8 concurrent workers.\n",
      "[Parallel(n_jobs=8)]: Done  16 tasks      | elapsed:    0.0s\n",
      "[Parallel(n_jobs=-1)]: Done  16 tasks      | elapsed:    0.0s\n",
      "[Parallel(n_jobs=8)]: Done  75 out of  75 | elapsed:    0.0s finished\n",
      "[Parallel(n_jobs=-1)]: Done  16 tasks      | elapsed:    0.0s\n",
      "[Parallel(n_jobs=-1)]: Done  20 tasks      | elapsed:    0.1s\n",
      "[Parallel(n_jobs=-1)]: Done  58 out of  58 | elapsed:    0.1s finished\n",
      "[Parallel(n_jobs=-1)]: Using backend ThreadingBackend with 8 concurrent workers.\n",
      "[Parallel(n_jobs=8)]: Using backend ThreadingBackend with 8 concurrent workers.\n",
      "[Parallel(n_jobs=8)]: Done  16 tasks      | elapsed:    0.0s\n",
      "[Parallel(n_jobs=8)]: Done  58 out of  58 | elapsed:    0.0s finished\n",
      "[Parallel(n_jobs=-1)]: Using backend ThreadingBackend with 8 concurrent workers.\n",
      "[Parallel(n_jobs=-1)]: Done  58 out of  58 | elapsed:    0.1s finished\n",
      "[Parallel(n_jobs=-1)]: Done  16 tasks      | elapsed:    0.0s\n",
      "[Parallel(n_jobs=8)]: Using backend ThreadingBackend with 8 concurrent workers.\n",
      "[Parallel(n_jobs=-1)]: Done  16 tasks      | elapsed:    0.0s\n",
      "[Parallel(n_jobs=8)]: Done  18 tasks      | elapsed:    0.0s\n",
      "[Parallel(n_jobs=8)]: Done  58 out of  58 | elapsed:    0.0s finished\n",
      "[Parallel(n_jobs=-1)]: Done  75 out of  75 | elapsed:    0.2s finished\n",
      "[Parallel(n_jobs=8)]: Using backend ThreadingBackend with 8 concurrent workers.\n",
      "[Parallel(n_jobs=-1)]: Done  75 out of  75 | elapsed:    0.1s finished\n",
      "[Parallel(n_jobs=8)]: Done  16 tasks      | elapsed:    0.0s\n",
      "[Parallel(n_jobs=-1)]: Using backend ThreadingBackend with 8 concurrent workers.\n",
      "[Parallel(n_jobs=8)]: Using backend ThreadingBackend with 8 concurrent workers.\n",
      "[Parallel(n_jobs=-1)]: Using backend ThreadingBackend with 8 concurrent workers.\n",
      "[Parallel(n_jobs=-1)]: Using backend ThreadingBackend with 8 concurrent workers.\n",
      "[Parallel(n_jobs=8)]: Done  75 out of  75 | elapsed:    0.0s finished\n",
      "[Parallel(n_jobs=8)]: Done  16 tasks      | elapsed:    0.0s\n",
      "[Parallel(n_jobs=8)]: Done  75 out of  75 | elapsed:    0.0s finished\n",
      "[Parallel(n_jobs=-1)]: Done  75 out of  75 | elapsed:    0.2s finished\n",
      "[Parallel(n_jobs=-1)]: Done  16 tasks      | elapsed:    0.0s\n",
      "[Parallel(n_jobs=-1)]: Done  16 tasks      | elapsed:    0.0s\n",
      "[Parallel(n_jobs=8)]: Using backend ThreadingBackend with 8 concurrent workers.\n",
      "[Parallel(n_jobs=8)]: Done  16 tasks      | elapsed:    0.0s\n",
      "[Parallel(n_jobs=8)]: Done  75 out of  75 | elapsed:    0.0s finished\n",
      "[Parallel(n_jobs=-1)]: Done  58 out of  58 | elapsed:    0.1s finished\n",
      "[Parallel(n_jobs=-1)]: Done  58 out of  58 | elapsed:    0.1s finished\n",
      "[Parallel(n_jobs=-1)]: Done  16 tasks      | elapsed:    0.1s\n",
      "[Parallel(n_jobs=8)]: Using backend ThreadingBackend with 8 concurrent workers.\n",
      "[Parallel(n_jobs=8)]: Using backend ThreadingBackend with 8 concurrent workers.\n",
      "[Parallel(n_jobs=8)]: Done  16 tasks      | elapsed:    0.0s\n",
      "[Parallel(n_jobs=8)]: Done  16 tasks      | elapsed:    0.0s\n",
      "[Parallel(n_jobs=8)]: Done  58 out of  58 | elapsed:    0.0s finished\n",
      "[Parallel(n_jobs=8)]: Done  58 out of  58 | elapsed:    0.0s finished\n",
      "[Parallel(n_jobs=-1)]: Using backend ThreadingBackend with 8 concurrent workers.\n",
      "[Parallel(n_jobs=-1)]: Done  75 out of  75 | elapsed:    0.2s finished\n",
      "[Parallel(n_jobs=-1)]: Using backend ThreadingBackend with 8 concurrent workers.\n",
      "[Parallel(n_jobs=8)]: Using backend ThreadingBackend with 8 concurrent workers.\n",
      "[Parallel(n_jobs=-1)]: Done  16 tasks      | elapsed:    0.0s\n",
      "[Parallel(n_jobs=8)]: Done  16 tasks      | elapsed:    0.0s\n",
      "[Parallel(n_jobs=8)]: Done  75 out of  75 | elapsed:    0.0s finished\n",
      "[Parallel(n_jobs=-1)]: Done  16 tasks      | elapsed:    0.0s\n",
      "[Parallel(n_jobs=-1)]: Using backend ThreadingBackend with 8 concurrent workers.\n",
      "[Parallel(n_jobs=-1)]: Done  75 out of  75 | elapsed:    0.1s finished\n",
      "[Parallel(n_jobs=8)]: Using backend ThreadingBackend with 8 concurrent workers.\n",
      "[Parallel(n_jobs=-1)]: Using backend ThreadingBackend with 8 concurrent workers.\n",
      "[Parallel(n_jobs=8)]: Done  16 tasks      | elapsed:    0.0s\n",
      "[Parallel(n_jobs=8)]: Done  75 out of  75 | elapsed:    0.0s finished\n",
      "[Parallel(n_jobs=-1)]: Done  16 tasks      | elapsed:    0.0s\n",
      "[Parallel(n_jobs=-1)]: Done  75 out of  75 | elapsed:    0.2s finished\n",
      "[Parallel(n_jobs=-1)]: Done  16 tasks      | elapsed:    0.0s\n",
      "[Parallel(n_jobs=8)]: Using backend ThreadingBackend with 8 concurrent workers.\n",
      "[Parallel(n_jobs=8)]: Done  16 tasks      | elapsed:    0.0s\n",
      "[Parallel(n_jobs=-1)]: Using backend ThreadingBackend with 8 concurrent workers.\n",
      "[Parallel(n_jobs=8)]: Done  75 out of  75 | elapsed:    0.0s finished\n",
      "[Parallel(n_jobs=-1)]: Using backend ThreadingBackend with 8 concurrent workers.\n",
      "[Parallel(n_jobs=-1)]: Done  58 out of  58 | elapsed:    0.1s finished\n",
      "[Parallel(n_jobs=8)]: Using backend ThreadingBackend with 8 concurrent workers.\n",
      "[Parallel(n_jobs=-1)]: Done  16 tasks      | elapsed:    0.0s\n",
      "[Parallel(n_jobs=8)]: Done  16 tasks      | elapsed:    0.0s\n",
      "[Parallel(n_jobs=-1)]: Done  58 out of  58 | elapsed:    0.1s finished\n",
      "[Parallel(n_jobs=8)]: Done  58 out of  58 | elapsed:    0.0s finished\n",
      "[Parallel(n_jobs=-1)]: Done  16 tasks      | elapsed:    0.1s\n",
      "[Parallel(n_jobs=8)]: Using backend ThreadingBackend with 8 concurrent workers.\n",
      "[Parallel(n_jobs=-1)]: Using backend ThreadingBackend with 8 concurrent workers.\n",
      "[Parallel(n_jobs=8)]: Done  16 tasks      | elapsed:    0.0s\n",
      "[Parallel(n_jobs=8)]: Done  58 out of  58 | elapsed:    0.0s finished\n",
      "[Parallel(n_jobs=-1)]: Done  58 out of  58 | elapsed:    0.1s finished\n",
      "[Parallel(n_jobs=-1)]: Done  16 tasks      | elapsed:    0.0s\n",
      "[Parallel(n_jobs=-1)]: Using backend ThreadingBackend with 8 concurrent workers.\n",
      "[Parallel(n_jobs=8)]: Using backend ThreadingBackend with 8 concurrent workers.\n",
      "[Parallel(n_jobs=8)]: Done  16 tasks      | elapsed:    0.0s\n",
      "[Parallel(n_jobs=8)]: Done  58 out of  58 | elapsed:    0.0s finished\n",
      "[Parallel(n_jobs=-1)]: Done  75 out of  75 | elapsed:    0.2s finished\n",
      "[Parallel(n_jobs=-1)]: Done  16 tasks      | elapsed:    0.0s\n",
      "[Parallel(n_jobs=8)]: Using backend ThreadingBackend with 8 concurrent workers.\n",
      "[Parallel(n_jobs=8)]: Done  16 tasks      | elapsed:    0.0s\n",
      "[Parallel(n_jobs=8)]: Done  75 out of  75 | elapsed:    0.0s finished\n",
      "[Parallel(n_jobs=-1)]: Using backend ThreadingBackend with 8 concurrent workers.\n",
      "[Parallel(n_jobs=-1)]: Done  58 out of  58 | elapsed:    0.1s finished\n",
      "[Parallel(n_jobs=-1)]: Using backend ThreadingBackend with 8 concurrent workers.\n",
      "[Parallel(n_jobs=-1)]: Done  75 out of  75 | elapsed:    0.2s finished\n",
      "[Parallel(n_jobs=-1)]: Done  16 tasks      | elapsed:    0.0s\n",
      "[Parallel(n_jobs=8)]: Using backend ThreadingBackend with 8 concurrent workers.\n",
      "[Parallel(n_jobs=8)]: Done  16 tasks      | elapsed:    0.0s\n",
      "[Parallel(n_jobs=8)]: Using backend ThreadingBackend with 8 concurrent workers.\n",
      "[Parallel(n_jobs=8)]: Done  58 out of  58 | elapsed:    0.0s finished\n",
      "[Parallel(n_jobs=8)]: Done  16 tasks      | elapsed:    0.0s\n",
      "[Parallel(n_jobs=-1)]: Done  16 tasks      | elapsed:    0.0s\n",
      "[Parallel(n_jobs=8)]: Done  75 out of  75 | elapsed:    0.0s finished\n"
     ]
    },
    {
     "name": "stderr",
     "output_type": "stream",
     "text": [
      "[Parallel(n_jobs=-1)]: Done  75 out of  75 | elapsed:    0.1s finished\n",
      "[Parallel(n_jobs=8)]: Using backend ThreadingBackend with 8 concurrent workers.\n",
      "[Parallel(n_jobs=8)]: Done  16 tasks      | elapsed:    0.0s\n",
      "[Parallel(n_jobs=8)]: Done  75 out of  75 | elapsed:    0.0s finished\n",
      "[Parallel(n_jobs=-1)]: Done  75 out of  75 | elapsed:    0.1s finished\n",
      "[Parallel(n_jobs=8)]: Using backend ThreadingBackend with 8 concurrent workers.\n",
      "[Parallel(n_jobs=8)]: Done  16 tasks      | elapsed:    0.0s\n",
      "[Parallel(n_jobs=8)]: Done  75 out of  75 | elapsed:    0.0s finished\n",
      "[Parallel(n_jobs=-1)]: Using backend ThreadingBackend with 8 concurrent workers.\n",
      "[Parallel(n_jobs=-1)]: Done  16 tasks      | elapsed:    0.0s\n"
     ]
    },
    {
     "name": "stdout",
     "output_type": "stream",
     "text": [
      "building tree 1 of 58building tree 2 of 58\n",
      "building tree 3 of 58\n",
      "building tree 4 of 58\n",
      "\n",
      "building tree 5 of 58building tree 6 of 58\n",
      "building tree 7 of 58\n",
      "\n",
      "building tree 8 of 58\n",
      "building tree 9 of 58\n",
      "building tree 10 of 58building tree 11 of 58\n",
      "building tree 12 of 58building tree 13 of 58\n",
      "\n",
      "\n",
      "building tree 14 of 58building tree 15 of 58\n",
      "building tree 16 of 58\n",
      "\n",
      "building tree 17 of 58\n",
      "building tree 18 of 58\n",
      "building tree 19 of 58\n",
      "building tree 20 of 58building tree 21 of 58\n",
      "building tree 22 of 58building tree 23 of 58\n",
      "\n",
      "\n",
      "building tree 24 of 58\n",
      "building tree 25 of 58\n",
      "building tree 26 of 58\n",
      "building tree 27 of 58building tree 28 of 58building tree 29 of 58\n",
      "\n",
      "\n",
      "building tree 30 of 58building tree 31 of 58\n",
      "\n",
      "building tree 32 of 58\n",
      "building tree 33 of 58\n",
      "building tree 34 of 58\n",
      "building tree 35 of 58\n",
      "building tree 36 of 58\n",
      "building tree 37 of 58building tree 38 of 58\n",
      "building tree 39 of 58\n",
      "\n",
      "building tree 40 of 58\n",
      "building tree 41 of 58\n",
      "building tree 42 of 58\n",
      "building tree 43 of 58\n",
      "building tree 44 of 58\n",
      "building tree 45 of 58\n",
      "building tree 46 of 58\n",
      "building tree 47 of 58\n",
      "building tree 48 of 58\n",
      "building tree 49 of 58\n",
      "building tree 50 of 58\n",
      "building tree 51 of 58\n",
      "building tree 52 of 58\n",
      "building tree 53 of 58\n",
      "building tree 54 of 58\n",
      "building tree 55 of 58\n",
      "building tree 56 of 58\n",
      "building tree 57 of 58\n",
      "building tree 58 of 58\n"
     ]
    },
    {
     "name": "stderr",
     "output_type": "stream",
     "text": [
      "[Parallel(n_jobs=-1)]: Done  58 out of  58 | elapsed:    0.1s finished\n"
     ]
    },
    {
     "data": {
      "text/plain": [
       "GridSearchCV(cv=2,\n",
       "             estimator=Pipeline(steps=[('preprocess',\n",
       "                                        ColumnTransformer(transformers=[('cat_cleaning',\n",
       "                                                                         Pipeline(steps=[('imputer',\n",
       "                                                                                          SimpleImputer(fill_value='missing',\n",
       "                                                                                                        strategy='constant')),\n",
       "                                                                                         ('ohe',\n",
       "                                                                                          OneHotEncoder(handle_unknown='ignore',\n",
       "                                                                                                        sparse=False))]),\n",
       "                                                                         ['state',\n",
       "                                                                          'international_plan',\n",
       "                                                                          'voice_mail_plan']),\n",
       "                                                                        ('num_cleaning',\n",
       "                                                                         Pipeline(steps=[('imputer',\n",
       "                                                                                          Simpl...\n",
       "                                                                          'customer_service_calls'])])),\n",
       "                                       ('smote', SMOTE()),\n",
       "                                       ('rft',\n",
       "                                        RandomForestClassifier(max_depth=6,\n",
       "                                                               max_features=11,\n",
       "                                                               min_samples_leaf=4,\n",
       "                                                               min_samples_split=11,\n",
       "                                                               n_estimators=58,\n",
       "                                                               n_jobs=-1,\n",
       "                                                               verbose=3))]),\n",
       "             n_jobs=-1,\n",
       "             param_grid={'rft__max_depth': [5, 6],\n",
       "                         'rft__max_features': [11, 12],\n",
       "                         'rft__min_samples_leaf': [4, 5],\n",
       "                         'rft__min_samples_split': [10, 11],\n",
       "                         'rft__n_estimators': [58, 75]},\n",
       "             verbose=3)"
      ]
     },
     "execution_count": 28,
     "metadata": {},
     "output_type": "execute_result"
    }
   ],
   "source": [
    "grid_pipe.fit(X_train, y_train)"
   ]
  },
  {
   "cell_type": "markdown",
   "metadata": {},
   "source": [
    "## Gives the Max Result. This is Our Model"
   ]
  },
  {
   "cell_type": "code",
   "execution_count": 29,
   "metadata": {},
   "outputs": [
    {
     "data": {
      "text/plain": [
       "Pipeline(steps=[('preprocess',\n",
       "                 ColumnTransformer(transformers=[('cat_cleaning',\n",
       "                                                  Pipeline(steps=[('imputer',\n",
       "                                                                   SimpleImputer(fill_value='missing',\n",
       "                                                                                 strategy='constant')),\n",
       "                                                                  ('ohe',\n",
       "                                                                   OneHotEncoder(handle_unknown='ignore',\n",
       "                                                                                 sparse=False))]),\n",
       "                                                  ['state',\n",
       "                                                   'international_plan',\n",
       "                                                   'voice_mail_plan']),\n",
       "                                                 ('num_cleaning',\n",
       "                                                  Pipeline(steps=[('imputer',\n",
       "                                                                   SimpleImputer(missing_values=0)),...\n",
       "                                                   'number_vmail_messages',\n",
       "                                                   'total_day_minutes',\n",
       "                                                   'total_day_calls',\n",
       "                                                   'total_eve_minutes',\n",
       "                                                   'total_eve_calls',\n",
       "                                                   'total_night_minutes',\n",
       "                                                   'total_night_calls',\n",
       "                                                   'total_intl_minutes',\n",
       "                                                   'total_intl_calls',\n",
       "                                                   'customer_service_calls'])])),\n",
       "                ('smote', SMOTE()),\n",
       "                ('rft',\n",
       "                 RandomForestClassifier(max_depth=6, max_features=12,\n",
       "                                        min_samples_leaf=4,\n",
       "                                        min_samples_split=10, n_estimators=58,\n",
       "                                        n_jobs=-1, verbose=3))])"
      ]
     },
     "execution_count": 29,
     "metadata": {},
     "output_type": "execute_result"
    }
   ],
   "source": [
    "grid_pipe.best_estimator_"
   ]
  },
  {
   "cell_type": "code",
   "execution_count": 30,
   "metadata": {},
   "outputs": [],
   "source": [
    "grid_pipe = grid_pipe.best_estimator_"
   ]
  },
  {
   "cell_type": "markdown",
   "metadata": {},
   "source": [
    "#  Machine Modeling on a Tuesday Afternoon "
   ]
  },
  {
   "cell_type": "raw",
   "metadata": {},
   "source": [
    "1. Pipeline(steps=[('smt', SMOTE(random_state=42)), ('ss', StandardScaler()),\n",
    "                ('rft',\n",
    "                 RandomForestClassifier(max_depth=7, max_features=11,\n",
    "                                        min_samples_leaf=5, random_state=30))])\n",
    "2. Pipeline(steps=[('smt', SMOTE(random_state=42)), ('ss', StandardScaler()),\n",
    "                ('rft',\n",
    "                 RandomForestClassifier(max_depth=6, max_features=10,\n",
    "                                        min_samples_leaf=4,\n",
    "                                        min_samples_split=10, n_estimators=3,\n",
    "                                        random_state=30))])   \n",
    "                   CV: 0.9217 Values: [0.91142191 0.8997669  0.93939394 0.93706294 0.92074592]\n",
    "\n",
    "3. Pipeline(steps=[('smt', SMOTE(random_state=42)), ('ss', StandardScaler()),\n",
    "                ('rft',\n",
    "                 RandomForestClassifier(max_depth=6, max_features=10,\n",
    "                                        min_samples_leaf=4,\n",
    "                                        min_samples_split=11, n_estimators=5,\n",
    "                                        random_state=30))]) \n",
    "         CV:0.9296Values[0.916083920.920745920.946386950.941724940.92307692]\n",
    "         0.9356643356643357\n",
    "        \n",
    "4. Pipeline(steps=[('smt', SMOTE(random_state=42)), ('ss', StandardScaler()),\n",
    "                ('rft',\n",
    "                 RandomForestClassifier(max_depth=6, max_features=10,\n",
    "                                        min_samples_leaf=4,\n",
    "                                        min_samples_split=11, n_estimators=64,\n",
    "                                        random_state=30))])\n",
    "CV: 0.9380 Values: [0.94172494 0.93706294 0.94871795 0.94172494 0.92074592]\n",
    "0.9398601398601398 ************   \n",
    "\n",
    "5. Pipeline(steps=[('smt', SMOTE(random_state=42)), ('ss', StandardScaler()),\n",
    "                ('rft',\n",
    "                 RandomForestClassifier(bootstrap=False, max_depth=6,\n",
    "                                        max_features=10, min_samples_leaf=4,\n",
    "                                        min_samples_split=11, n_estimators=17,\n",
    "                                        random_state=30))])\n",
    "CV: 0.9385 Values: [0.94405594 0.93939394 0.94405594 0.93240093 0.93240093]\n",
    "0.9314685314685315  \n",
    "\n",
    " precision    recall  f1-score   support\n",
    "\n",
    "           0       0.96      0.97      0.97       636\n",
    "           1       0.75      0.68      0.72        79\n",
    "\n",
    "    accuracy                           0.94       715\n",
    "   macro avg       0.86      0.83      0.84       715\n",
    "weighted avg       0.94      0.94      0.94       715\n",
    "\n",
    "_______________________________________________________________________________________\n",
    "***************************************************************************************\n",
    "6. Pipeline(steps=[('smt', SMOTE(random_state=42)), ('ss', StandardScaler()),\n",
    "                ('rft',\n",
    "                 RandomForestClassifier(max_depth=6, max_features=10,\n",
    "                                        min_samples_leaf=4,\n",
    "                                        min_samples_split=11, n_estimators=48,\n",
    "                                        random_state=30))])\n",
    "CV: 0.9371 Values: [0.93939394 0.93473193 0.94871795 0.94172494 0.92074592]\n",
    "TEST – 0.9412587412587412\n",
    "\n",
    "                 precision   recall  f1-score     support             \n",
    "\n",
    "           0       0.96      0.97      0.97       636\n",
    "           1       0.75      0.70      0.72        79\n",
    "\n",
    "    accuracy                           0.94       715\n",
    "   macro avg       0.86      0.83      0.85       715\n",
    "weighted avg       0.94      0.94      0.94       715\n",
    "\n",
    "Gridseach last three settings: n_jobs = -1, verbose=3, cv=3\n",
    "\n",
    "'rft__n_estimators': [int(x) for x in np.linspace(start=10, stop=120, num=10)],\n",
    "********************************************************************************************\n",
    "_____________________________________________________________________________________________"
   ]
  },
  {
   "cell_type": "markdown",
   "metadata": {},
   "source": [
    "## Confusion Matrix for Gridsearch Random Forest"
   ]
  },
  {
   "cell_type": "code",
   "execution_count": 31,
   "metadata": {},
   "outputs": [
    {
     "name": "stderr",
     "output_type": "stream",
     "text": [
      "[Parallel(n_jobs=8)]: Using backend ThreadingBackend with 8 concurrent workers.\n",
      "[Parallel(n_jobs=8)]: Done  16 tasks      | elapsed:    0.0s\n",
      "[Parallel(n_jobs=8)]: Done  58 out of  58 | elapsed:    0.0s finished\n"
     ]
    }
   ],
   "source": [
    "y_predict = grid_pipe.predict(X_test)"
   ]
  },
  {
   "cell_type": "code",
   "execution_count": 32,
   "metadata": {
    "scrolled": false
   },
   "outputs": [
    {
     "name": "stderr",
     "output_type": "stream",
     "text": [
      "[Parallel(n_jobs=8)]: Using backend ThreadingBackend with 8 concurrent workers.\n",
      "[Parallel(n_jobs=8)]: Done  16 tasks      | elapsed:    0.0s\n",
      "[Parallel(n_jobs=8)]: Done  58 out of  58 | elapsed:    0.0s finished\n"
     ]
    },
    {
     "data": {
      "image/png": "[encoded data removed]",
      "text/plain": [
       "<Figure size 432x288 with 2 Axes>"
      ]
     },
     "metadata": {
      "needs_background": "light"
     },
     "output_type": "display_data"
    }
   ],
   "source": [
    "fig, ax = plt.subplots()\n",
    "fig.suptitle(\"Random Forest Model\")\n",
    "plot_confusion_matrix(grid_pipe, X_test, y_test, ax=ax, cmap=\"plasma\");"
   ]
  },
  {
   "cell_type": "markdown",
   "metadata": {},
   "source": [
    "# =============================================================="
   ]
  },
  {
   "cell_type": "markdown",
   "metadata": {},
   "source": [
    "# The Multi-Layered Model"
   ]
  },
  {
   "cell_type": "code",
   "execution_count": 33,
   "metadata": {},
   "outputs": [],
   "source": [
    "layer_one_estimators = [\n",
    "     \n",
    "    ('rf_1', RandomForestClassifier(n_estimators=58, \n",
    "                                     random_state=42,\n",
    "                                    min_samples_leaf=4,\n",
    "                                    min_samples_split=13,\n",
    "                                    max_features=11)),\n",
    "    \n",
    "    ('knn_1', KNeighborsClassifier(n_neighbors=13)),\n",
    "    \n",
    "    ('Ada_1', AdaBoostClassifier(n_estimators=50, learning_rate=1,random_state=42)),\n",
    "]\n",
    "\n",
    "\n",
    "\n",
    "layer_two_estimators = [\n",
    "    \n",
    "    ('dt_2', DecisionTreeClassifier(random_state=42,\n",
    "                                           criterion = 'entropy',\n",
    "                                           max_depth = 25,\n",
    "                                           min_samples_split = 2,\n",
    "                                           min_samples_leaf = 2,\n",
    "                                           max_leaf_nodes = 15)),\n",
    "     \n",
    "    ('rf_2', RandomForestClassifier(n_estimators=58, \n",
    "                                     random_state=42,\n",
    "                                    min_samples_leaf=4,\n",
    "                                    min_samples_split=11,\n",
    "                                    max_features=2))\n",
    "]\n",
    "\n",
    "\n",
    "\n",
    "layer_two = StackingClassifier(estimators=layer_two_estimators, final_estimator=LogisticRegression(C=0.9,\n",
    "                                                                                                   penalty='l2',\n",
    "                                                                                                  random_state=42,\n",
    "                                                                                                  solver='saga',\n",
    "                                                                                                  max_iter=10000,\n",
    "                                                                                                   warm_start=True,))\n",
    "     \n",
    "# Creating the multi-layered model\n",
    "layers = StackingClassifier(estimators=layer_one_estimators, final_estimator=layer_two)"
   ]
  },
  {
   "cell_type": "markdown",
   "metadata": {},
   "source": [
    "## Getting the Scores and Fitting "
   ]
  },
  {
   "cell_type": "code",
   "execution_count": 34,
   "metadata": {
    "scrolled": false
   },
   "outputs": [
    {
     "name": "stdout",
     "output_type": "stream",
     "text": [
      "\t\tThe Train Results\n",
      "              precision    recall  f1-score   support\n",
      "\n",
      "       False       0.98      0.97      0.98      2137\n",
      "        True       0.83      0.90      0.87       362\n",
      "\n",
      "    accuracy                           0.96      2499\n",
      "   macro avg       0.91      0.94      0.92      2499\n",
      "weighted avg       0.96      0.96      0.96      2499\n",
      "\n",
      "\n",
      "\t\tThe Test Results\n",
      "              precision    recall  f1-score   support\n",
      "\n",
      "       False       0.98      0.93      0.95       713\n",
      "        True       0.69      0.87      0.77       121\n",
      "\n",
      "    accuracy                           0.92       834\n",
      "   macro avg       0.83      0.90      0.86       834\n",
      "weighted avg       0.93      0.92      0.93       834\n",
      "\n",
      "Test Score:  0.9232613908872902\n",
      "Cross Validation Score:  0.9191687374749499\n"
     ]
    }
   ],
   "source": [
    "fit_and_print_scores(pipe_model_choice('layers', layers))"
   ]
  },
  {
   "cell_type": "code",
   "execution_count": 35,
   "metadata": {},
   "outputs": [],
   "source": [
    "our_layers_pipe = imbPipeline(steps=[\n",
    "    ('preprocess', preprocess),\n",
    "    ('smote', SMOTE()),\n",
    "    ('layers', layers)\n",
    "    \n",
    "])"
   ]
  },
  {
   "cell_type": "markdown",
   "metadata": {},
   "source": [
    "# Multi-layered Confusion Matrices"
   ]
  },
  {
   "cell_type": "code",
   "execution_count": 44,
   "metadata": {
    "scrolled": false
   },
   "outputs": [
    {
     "data": {
      "image/png": "[encoded data removed]",
      "text/plain": [
       "<Figure size 432x288 with 2 Axes>"
      ]
     },
     "metadata": {
      "needs_background": "light"
     },
     "output_type": "display_data"
    },
    {
     "data": {
      "image/png": "[encoded data removed]",
      "text/plain": [
       "<Figure size 432x288 with 2 Axes>"
      ]
     },
     "metadata": {
      "needs_background": "light"
     },
     "output_type": "display_data"
    }
   ],
   "source": [
    "fig, ax = plt.subplots()\n",
    "fig.suptitle('Train Confusion Matrix')\n",
    "plot_confusion_matrix(our_layers_pipe, X_train, y_train, ax=ax, normalize=None)\n",
    "\n",
    "fig, ax = plt.subplots()\n",
    "fig.suptitle('Test Confusion Matrix')\n",
    "plot_confusion_matrix(our_layers_pipe, X_test, y_test, ax=ax, normalize=None);"
   ]
  },
  {
   "cell_type": "markdown",
   "metadata": {},
   "source": [
    "# Visualizations"
   ]
  },
  {
   "cell_type": "code",
   "execution_count": 45,
   "metadata": {
    "scrolled": true
   },
   "outputs": [],
   "source": [
    "#Getting the features that impact Churn the most\n",
    "cat_ohe_cols = grid_pipe.named_steps['preprocess'].named_transformers_['cat_cleaning'].named_steps['ohe'].get_feature_names(cat_cols).tolist()\n",
    "feat_cols = cat_ohe_cols + num_cols\n",
    "X_train_tf = pd.DataFrame(grid_pipe.named_steps['preprocess'].fit_transform(X_train), columns=feat_cols)\n",
    "important_feats = pd.Series(grid_pipe.named_steps['rft'].feature_importances_, index=feat_cols)\n",
    "top_feats = important_feats.sort_values(ascending=False).head(10)"
   ]
  },
  {
   "cell_type": "code",
   "execution_count": 46,
   "metadata": {},
   "outputs": [
    {
     "data": {
      "image/png": "[encoded data removed]",
      "text/plain": [
       "<Figure size 432x288 with 1 Axes>"
      ]
     },
     "metadata": {
      "needs_background": "light"
     },
     "output_type": "display_data"
    }
   ],
   "source": [
    "plt.Figure(figsize=(5, 5))\n",
    "top_feats.sort_values().plot(kind='barh')\n",
    "plt.xlabel('Level of Importance')\n",
    "plt.ylabel('Features')\n",
    "plt.title('Most Important Features that Affect Churn');"
   ]
  },
  {
   "cell_type": "code",
   "execution_count": 55,
   "metadata": {},
   "outputs": [],
   "source": [
    "metrics = pd.DataFrame(columns=['Model', 'Recall', 'Churn'])\n",
    "metrics.loc[len(metrics.index)] = ['Simple', .78, 0]\n",
    "metrics.loc[len(metrics.index)] = ['Simple', .81, 1]\n",
    "metrics.loc[len(metrics.index)] = ['Complex', .94, 0] \n",
    "metrics.loc[len(metrics.index)] = ['Complex', .87, 1] "
   ]
  },
  {
   "cell_type": "code",
   "execution_count": 56,
   "metadata": {},
   "outputs": [
    {
     "data": {
      "image/png": "[encoded data removed]",
      "text/plain": [
       "<Figure size 720x720 with 1 Axes>"
      ]
     },
     "metadata": {
      "needs_background": "light"
     },
     "output_type": "display_data"
    }
   ],
   "source": [
    "fig, ax = plt.subplots(figsize=(10,10))\n",
    "sns.barplot(x = 'Model', y = 'Recall',\n",
    "            hue= 'Churn', ax=ax, data=metrics, palette='rocket', ci=None)\n",
    "plt.title(\"Metrics Comparison Between More Complex Models\")\n",
    "plt.legend(['Predicting No Churn', 'Predicting Churn']);\n",
    "plt.ylabel(\"Predictability\");\n",
    "plt.gca().yaxis.set_major_formatter(mtick.PercentFormatter(1))\n",
    "#if you already have ticks in the 0 to 1 range. Otherwise see their answer"
   ]
  },
  {
   "cell_type": "code",
   "execution_count": 49,
   "metadata": {},
   "outputs": [
    {
     "data": {
      "image/png": "[encoded data removed]",
      "text/plain": [
       "<Figure size 720x720 with 1 Axes>"
      ]
     },
     "metadata": {
      "needs_background": "light"
     },
     "output_type": "display_data"
    }
   ],
   "source": [
    "state_totals = df.groupby('state').count()['churn']\n",
    "state_trues = df.groupby('state')['churn'].sum().sort_values()\n",
    "state_totals = df.groupby('state').count()['churn']\n",
    "\n",
    "churn_perc = state_trues / state_totals\n",
    "churn_perc.sort_values()\n",
    "areas = pd.DataFrame(columns=['State', 'Churn Rate'])\n",
    "areas.loc[len(areas.index)] = ['California', 26.4]\n",
    "areas.loc[len(areas.index)] = ['Colorado', 13.6] \n",
    "areas.loc[len(areas.index)] = ['Hawaii', 5.6] \n",
    "fig, ax = plt.subplots(figsize=(10,10))\n",
    "sns.barplot(x = 'State', y = 'Churn Rate', ax=ax, data=areas, palette='rocket', ci=None)\n",
    "plt.title(\"Churn Rate of Highest, Lowest, and Average State\");"
   ]
  },
  {
   "cell_type": "code",
   "execution_count": 51,
   "metadata": {},
   "outputs": [
    {
     "data": {
      "image/png": "[encoded data removed]",
      "text/plain": [
       "<Figure size 720x720 with 1 Axes>"
      ]
     },
     "metadata": {
      "needs_background": "light"
     },
     "output_type": "display_data"
    }
   ],
   "source": [
    "df_churn = df.loc[df['churn'] == 1]\n",
    "fig, ax = plt.subplots(figsize=(10,10))\n",
    "sns.barplot(x = 'customer_service_calls', y = 'total_day_minutes'\n",
    "            , ax=ax, data=df_churn, palette='rocket', ci=None)\n",
    "plt.title(\"Customers who Churn\")\n",
    "plt.xlabel(\"Number of Customer Service Calls\")\n",
    "plt.ylabel(\"Minutes Used\");"
   ]
  },
  {
   "cell_type": "code",
   "execution_count": 57,
   "metadata": {},
   "outputs": [
    {
     "data": {
      "image/png": "[encoded data removed]",
      "text/plain": [
       "<Figure size 432x288 with 1 Axes>"
      ]
     },
     "metadata": {
      "needs_background": "light"
     },
     "output_type": "display_data"
    }
   ],
   "source": [
    "ax = sns.barplot(x=\"churn\", y=\"total_day_minutes\", data=df, ci=False, palette='rocket')\n",
    "plt.title('Customers that Churn based on their Minutes Usage')\n",
    "plt.xlabel('Churn')\n",
    "plt.ylabel('Minutes Used');"
   ]
  },
  {
   "cell_type": "code",
   "execution_count": null,
   "metadata": {},
   "outputs": [],
   "source": []
  }
 ],
 "metadata": {
  "kernelspec": {
   "display_name": "firstEnv",
   "language": "python",
   "name": "firstenv"
  },
  "language_info": {
   "codemirror_mode": {
    "name": "ipython",
    "version": 3
   },
   "file_extension": ".py",
   "mimetype": "text/x-python",
   "name": "python",
   "nbconvert_exporter": "python",
   "pygments_lexer": "ipython3",
   "version": "3.9.6"
  }
 },
 "nbformat": 4,
 "nbformat_minor": 4
}
